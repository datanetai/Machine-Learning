{
 "cells": [
  {
   "cell_type": "code",
   "execution_count": 1,
   "id": "9257abf2",
   "metadata": {
    "execution": {
     "iopub.execute_input": "2022-08-12T03:40:03.015211Z",
     "iopub.status.busy": "2022-08-12T03:40:03.014599Z",
     "iopub.status.idle": "2022-08-12T03:40:05.122627Z",
     "shell.execute_reply": "2022-08-12T03:40:05.121502Z"
    },
    "papermill": {
     "duration": 2.120831,
     "end_time": "2022-08-12T03:40:05.125594",
     "exception": false,
     "start_time": "2022-08-12T03:40:03.004763",
     "status": "completed"
    },
    "tags": []
   },
   "outputs": [],
   "source": [
    "import pandas as pd\n",
    "import numpy as np\n",
    "import matplotlib.pyplot as plt\n",
    "from sklearn.model_selection import GroupKFold\n",
    "from sklearn.metrics import roc_auc_score\n",
    "from lightgbm import LGBMClassifier\n",
    "from sklearn.preprocessing import StandardScaler\n",
    "from sklearn.impute import KNNImputer\n",
    "from sklearn.linear_model import LogisticRegression\n",
    "from sklearn.preprocessing import OneHotEncoder\n",
    "from sklearn.model_selection import StratifiedKFold\n",
    "import warnings\n",
    "warnings.filterwarnings('ignore')\n",
    "plt.style.use('seaborn-darkgrid')"
   ]
  },
  {
   "cell_type": "code",
   "execution_count": 2,
   "id": "badcd7d3",
   "metadata": {
    "execution": {
     "iopub.execute_input": "2022-08-12T03:40:05.140243Z",
     "iopub.status.busy": "2022-08-12T03:40:05.139175Z",
     "iopub.status.idle": "2022-08-12T03:40:05.451089Z",
     "shell.execute_reply": "2022-08-12T03:40:05.450177Z"
    },
    "papermill": {
     "duration": 0.321779,
     "end_time": "2022-08-12T03:40:05.453605",
     "exception": false,
     "start_time": "2022-08-12T03:40:05.131826",
     "status": "completed"
    },
    "tags": []
   },
   "outputs": [
    {
     "data": {
      "text/html": [
       "<div>\n",
       "<style scoped>\n",
       "    .dataframe tbody tr th:only-of-type {\n",
       "        vertical-align: middle;\n",
       "    }\n",
       "\n",
       "    .dataframe tbody tr th {\n",
       "        vertical-align: top;\n",
       "    }\n",
       "\n",
       "    .dataframe thead th {\n",
       "        text-align: right;\n",
       "    }\n",
       "</style>\n",
       "<table border=\"1\" class=\"dataframe\">\n",
       "  <thead>\n",
       "    <tr style=\"text-align: right;\">\n",
       "      <th></th>\n",
       "      <th>id</th>\n",
       "      <th>product_code</th>\n",
       "      <th>loading</th>\n",
       "      <th>attribute_0</th>\n",
       "      <th>attribute_1</th>\n",
       "      <th>attribute_2</th>\n",
       "      <th>attribute_3</th>\n",
       "      <th>measurement_0</th>\n",
       "      <th>measurement_1</th>\n",
       "      <th>measurement_2</th>\n",
       "      <th>...</th>\n",
       "      <th>measurement_9</th>\n",
       "      <th>measurement_10</th>\n",
       "      <th>measurement_11</th>\n",
       "      <th>measurement_12</th>\n",
       "      <th>measurement_13</th>\n",
       "      <th>measurement_14</th>\n",
       "      <th>measurement_15</th>\n",
       "      <th>measurement_16</th>\n",
       "      <th>measurement_17</th>\n",
       "      <th>failure</th>\n",
       "    </tr>\n",
       "  </thead>\n",
       "  <tbody>\n",
       "    <tr>\n",
       "      <th>0</th>\n",
       "      <td>0</td>\n",
       "      <td>A</td>\n",
       "      <td>80.10</td>\n",
       "      <td>material_7</td>\n",
       "      <td>material_8</td>\n",
       "      <td>9</td>\n",
       "      <td>5</td>\n",
       "      <td>7</td>\n",
       "      <td>8</td>\n",
       "      <td>4</td>\n",
       "      <td>...</td>\n",
       "      <td>10.672</td>\n",
       "      <td>15.859</td>\n",
       "      <td>17.594</td>\n",
       "      <td>15.193</td>\n",
       "      <td>15.029</td>\n",
       "      <td>NaN</td>\n",
       "      <td>13.034</td>\n",
       "      <td>14.684</td>\n",
       "      <td>764.100</td>\n",
       "      <td>0</td>\n",
       "    </tr>\n",
       "    <tr>\n",
       "      <th>1</th>\n",
       "      <td>1</td>\n",
       "      <td>A</td>\n",
       "      <td>84.89</td>\n",
       "      <td>material_7</td>\n",
       "      <td>material_8</td>\n",
       "      <td>9</td>\n",
       "      <td>5</td>\n",
       "      <td>14</td>\n",
       "      <td>3</td>\n",
       "      <td>3</td>\n",
       "      <td>...</td>\n",
       "      <td>12.448</td>\n",
       "      <td>17.947</td>\n",
       "      <td>17.915</td>\n",
       "      <td>11.755</td>\n",
       "      <td>14.732</td>\n",
       "      <td>15.425</td>\n",
       "      <td>14.395</td>\n",
       "      <td>15.631</td>\n",
       "      <td>682.057</td>\n",
       "      <td>0</td>\n",
       "    </tr>\n",
       "    <tr>\n",
       "      <th>2</th>\n",
       "      <td>2</td>\n",
       "      <td>A</td>\n",
       "      <td>82.43</td>\n",
       "      <td>material_7</td>\n",
       "      <td>material_8</td>\n",
       "      <td>9</td>\n",
       "      <td>5</td>\n",
       "      <td>12</td>\n",
       "      <td>1</td>\n",
       "      <td>5</td>\n",
       "      <td>...</td>\n",
       "      <td>12.715</td>\n",
       "      <td>15.607</td>\n",
       "      <td>NaN</td>\n",
       "      <td>13.798</td>\n",
       "      <td>16.711</td>\n",
       "      <td>18.631</td>\n",
       "      <td>14.094</td>\n",
       "      <td>17.946</td>\n",
       "      <td>663.376</td>\n",
       "      <td>0</td>\n",
       "    </tr>\n",
       "    <tr>\n",
       "      <th>3</th>\n",
       "      <td>3</td>\n",
       "      <td>A</td>\n",
       "      <td>101.07</td>\n",
       "      <td>material_7</td>\n",
       "      <td>material_8</td>\n",
       "      <td>9</td>\n",
       "      <td>5</td>\n",
       "      <td>13</td>\n",
       "      <td>2</td>\n",
       "      <td>6</td>\n",
       "      <td>...</td>\n",
       "      <td>12.471</td>\n",
       "      <td>16.346</td>\n",
       "      <td>18.377</td>\n",
       "      <td>10.020</td>\n",
       "      <td>15.250</td>\n",
       "      <td>15.562</td>\n",
       "      <td>16.154</td>\n",
       "      <td>17.172</td>\n",
       "      <td>826.282</td>\n",
       "      <td>0</td>\n",
       "    </tr>\n",
       "    <tr>\n",
       "      <th>4</th>\n",
       "      <td>4</td>\n",
       "      <td>A</td>\n",
       "      <td>188.06</td>\n",
       "      <td>material_7</td>\n",
       "      <td>material_8</td>\n",
       "      <td>9</td>\n",
       "      <td>5</td>\n",
       "      <td>9</td>\n",
       "      <td>2</td>\n",
       "      <td>8</td>\n",
       "      <td>...</td>\n",
       "      <td>10.337</td>\n",
       "      <td>17.082</td>\n",
       "      <td>19.932</td>\n",
       "      <td>12.428</td>\n",
       "      <td>16.182</td>\n",
       "      <td>12.760</td>\n",
       "      <td>13.153</td>\n",
       "      <td>16.412</td>\n",
       "      <td>579.885</td>\n",
       "      <td>0</td>\n",
       "    </tr>\n",
       "  </tbody>\n",
       "</table>\n",
       "<p>5 rows × 26 columns</p>\n",
       "</div>"
      ],
      "text/plain": [
       "   id product_code  loading attribute_0 attribute_1  attribute_2  attribute_3  \\\n",
       "0   0            A    80.10  material_7  material_8            9            5   \n",
       "1   1            A    84.89  material_7  material_8            9            5   \n",
       "2   2            A    82.43  material_7  material_8            9            5   \n",
       "3   3            A   101.07  material_7  material_8            9            5   \n",
       "4   4            A   188.06  material_7  material_8            9            5   \n",
       "\n",
       "   measurement_0  measurement_1  measurement_2  ...  measurement_9  \\\n",
       "0              7              8              4  ...         10.672   \n",
       "1             14              3              3  ...         12.448   \n",
       "2             12              1              5  ...         12.715   \n",
       "3             13              2              6  ...         12.471   \n",
       "4              9              2              8  ...         10.337   \n",
       "\n",
       "   measurement_10  measurement_11  measurement_12  measurement_13  \\\n",
       "0          15.859          17.594          15.193          15.029   \n",
       "1          17.947          17.915          11.755          14.732   \n",
       "2          15.607             NaN          13.798          16.711   \n",
       "3          16.346          18.377          10.020          15.250   \n",
       "4          17.082          19.932          12.428          16.182   \n",
       "\n",
       "   measurement_14  measurement_15  measurement_16  measurement_17  failure  \n",
       "0             NaN          13.034          14.684         764.100        0  \n",
       "1          15.425          14.395          15.631         682.057        0  \n",
       "2          18.631          14.094          17.946         663.376        0  \n",
       "3          15.562          16.154          17.172         826.282        0  \n",
       "4          12.760          13.153          16.412         579.885        0  \n",
       "\n",
       "[5 rows x 26 columns]"
      ]
     },
     "execution_count": 2,
     "metadata": {},
     "output_type": "execute_result"
    }
   ],
   "source": [
    "train_data = pd.read_csv('data/train.csv')\n",
    "test_data = pd.read_csv('data/test.csv')\n",
    "train_data.head()"
   ]
  },
  {
   "cell_type": "markdown",
   "id": "25c997cf",
   "metadata": {
    "papermill": {
     "duration": 0.006188,
     "end_time": "2022-08-12T03:40:05.466467",
     "exception": false,
     "start_time": "2022-08-12T03:40:05.460279",
     "status": "completed"
    },
    "tags": []
   },
   "source": [
    "Some EDA"
   ]
  },
  {
   "cell_type": "code",
   "execution_count": 3,
   "id": "656b70dd",
   "metadata": {
    "execution": {
     "iopub.execute_input": "2022-08-12T03:40:05.481718Z",
     "iopub.status.busy": "2022-08-12T03:40:05.481017Z",
     "iopub.status.idle": "2022-08-12T03:40:05.654066Z",
     "shell.execute_reply": "2022-08-12T03:40:05.652405Z"
    },
    "papermill": {
     "duration": 0.185198,
     "end_time": "2022-08-12T03:40:05.658449",
     "exception": false,
     "start_time": "2022-08-12T03:40:05.473251",
     "status": "completed"
    },
    "tags": []
   },
   "outputs": [
    {
     "data": {
      "text/plain": [
       "<AxesSubplot:ylabel='failure'>"
      ]
     },
     "execution_count": 3,
     "metadata": {},
     "output_type": "execute_result"
    },
    {
     "data": {
      "image/png": "[encoded data removed]",
      "text/plain": [
       "<Figure size 432x288 with 1 Axes>"
      ]
     },
     "metadata": {},
     "output_type": "display_data"
    }
   ],
   "source": [
    "# target distribution pie chart\n",
    "train_data.failure.value_counts().plot(kind='pie', autopct='%1.1f%%')"
   ]
  },
  {
   "cell_type": "code",
   "execution_count": 4,
   "id": "ed922949",
   "metadata": {
    "execution": {
     "iopub.execute_input": "2022-08-12T03:40:05.696362Z",
     "iopub.status.busy": "2022-08-12T03:40:05.695096Z",
     "iopub.status.idle": "2022-08-12T03:40:08.958173Z",
     "shell.execute_reply": "2022-08-12T03:40:08.957334Z"
    },
    "papermill": {
     "duration": 3.285299,
     "end_time": "2022-08-12T03:40:08.960929",
     "exception": false,
     "start_time": "2022-08-12T03:40:05.675630",
     "status": "completed"
    },
    "tags": []
   },
   "outputs": [
    {
     "data": {
      "image/png": "[encoded data removed]",
      "text/plain": [
       "<Figure size 1440x1440 with 16 Axes>"
      ]
     },
     "metadata": {
      "needs_background": "light"
     },
     "output_type": "display_data"
    }
   ],
   "source": [
    "numerical_cols = train_data.select_dtypes(include=[ 'float64']).columns\n",
    "# distribution of numerical columns\n",
    "train_data[numerical_cols].hist(bins=50, figsize=(20,20))\n",
    "plt.show()"
   ]
  },
  {
   "cell_type": "code",
   "execution_count": 5,
   "id": "617cedf3",
   "metadata": {
    "execution": {
     "iopub.execute_input": "2022-08-12T03:40:08.979560Z",
     "iopub.status.busy": "2022-08-12T03:40:08.979125Z",
     "iopub.status.idle": "2022-08-12T03:40:09.526743Z",
     "shell.execute_reply": "2022-08-12T03:40:09.525623Z"
    },
    "papermill": {
     "duration": 0.559517,
     "end_time": "2022-08-12T03:40:09.529057",
     "exception": false,
     "start_time": "2022-08-12T03:40:08.969540",
     "status": "completed"
    },
    "tags": []
   },
   "outputs": [
    {
     "data": {
      "image/png": "[encoded data removed]",
      "text/plain": [
       "<Figure size 432x288 with 1 Axes>"
      ]
     },
     "metadata": {
      "needs_background": "light"
     },
     "output_type": "display_data"
    },
    {
     "data": {
      "image/png": "[encoded data removed]",
      "text/plain": [
       "<Figure size 432x288 with 1 Axes>"
      ]
     },
     "metadata": {
      "needs_background": "light"
     },
     "output_type": "display_data"
    },
    {
     "data": {
      "image/png": "[encoded data removed]",
      "text/plain": [
       "<Figure size 432x288 with 1 Axes>"
      ]
     },
     "metadata": {
      "needs_background": "light"
     },
     "output_type": "display_data"
    }
   ],
   "source": [
    "# categorical columns\n",
    "categorical_cols = train_data.select_dtypes(include=[ 'object']).columns\n",
    "# distribution of categorical columns\n",
    "for col in categorical_cols:\n",
    "    train_data[col].value_counts().plot(kind='bar')\n",
    "    plt.show()"
   ]
  },
  {
   "cell_type": "code",
   "execution_count": 6,
   "id": "c41af0fe",
   "metadata": {
    "execution": {
     "iopub.execute_input": "2022-08-12T03:40:09.548856Z",
     "iopub.status.busy": "2022-08-12T03:40:09.548439Z",
     "iopub.status.idle": "2022-08-12T03:40:10.265920Z",
     "shell.execute_reply": "2022-08-12T03:40:10.264776Z"
    },
    "papermill": {
     "duration": 0.730176,
     "end_time": "2022-08-12T03:40:10.268350",
     "exception": false,
     "start_time": "2022-08-12T03:40:09.538174",
     "status": "completed"
    },
    "tags": []
   },
   "outputs": [
    {
     "data": {
      "image/png": "[encoded data removed]",
      "text/plain": [
       "<Figure size 432x288 with 1 Axes>"
      ]
     },
     "metadata": {
      "needs_background": "light"
     },
     "output_type": "display_data"
    },
    {
     "data": {
      "image/png": "[encoded data removed]",
      "text/plain": [
       "<Figure size 432x288 with 1 Axes>"
      ]
     },
     "metadata": {
      "needs_background": "light"
     },
     "output_type": "display_data"
    },
    {
     "data": {
      "image/png": "[encoded data removed]",
      "text/plain": [
       "<Figure size 432x288 with 1 Axes>"
      ]
     },
     "metadata": {
      "needs_background": "light"
     },
     "output_type": "display_data"
    }
   ],
   "source": [
    "# categorical_cols in test_data\n",
    "for col in categorical_cols:\n",
    "    test_data[col].value_counts().plot(kind='bar')\n",
    "    plt.show()"
   ]
  },
  {
   "cell_type": "code",
   "execution_count": 7,
   "id": "58e04727",
   "metadata": {
    "execution": {
     "iopub.execute_input": "2022-08-12T03:40:10.307958Z",
     "iopub.status.busy": "2022-08-12T03:40:10.307574Z",
     "iopub.status.idle": "2022-08-12T03:40:10.320813Z",
     "shell.execute_reply": "2022-08-12T03:40:10.319839Z"
    },
    "papermill": {
     "duration": 0.026785,
     "end_time": "2022-08-12T03:40:10.323548",
     "exception": false,
     "start_time": "2022-08-12T03:40:10.296763",
     "status": "completed"
    },
    "tags": []
   },
   "outputs": [
    {
     "data": {
      "text/plain": [
       "id                   0\n",
       "product_code         0\n",
       "loading            250\n",
       "attribute_0          0\n",
       "attribute_1          0\n",
       "attribute_2          0\n",
       "attribute_3          0\n",
       "measurement_0        0\n",
       "measurement_1        0\n",
       "measurement_2        0\n",
       "measurement_3      381\n",
       "measurement_4      538\n",
       "measurement_5      676\n",
       "measurement_6      796\n",
       "measurement_7      937\n",
       "measurement_8     1048\n",
       "measurement_9     1227\n",
       "measurement_10    1300\n",
       "measurement_11    1468\n",
       "measurement_12    1601\n",
       "measurement_13    1774\n",
       "measurement_14    1874\n",
       "measurement_15    2009\n",
       "measurement_16    2110\n",
       "measurement_17    2284\n",
       "failure              0\n",
       "dtype: int64"
      ]
     },
     "execution_count": 7,
     "metadata": {},
     "output_type": "execute_result"
    }
   ],
   "source": [
    "# missing values\n",
    "train_data.isnull().sum()"
   ]
  },
  {
   "cell_type": "code",
   "execution_count": 8,
   "id": "0b137af0",
   "metadata": {
    "execution": {
     "iopub.execute_input": "2022-08-12T03:40:10.344857Z",
     "iopub.status.busy": "2022-08-12T03:40:10.344028Z",
     "iopub.status.idle": "2022-08-12T03:40:10.356165Z",
     "shell.execute_reply": "2022-08-12T03:40:10.355427Z"
    },
    "papermill": {
     "duration": 0.025283,
     "end_time": "2022-08-12T03:40:10.358433",
     "exception": false,
     "start_time": "2022-08-12T03:40:10.333150",
     "status": "completed"
    },
    "tags": []
   },
   "outputs": [
    {
     "data": {
      "text/plain": [
       "id                   0\n",
       "product_code         0\n",
       "loading            223\n",
       "attribute_0          0\n",
       "attribute_1          0\n",
       "attribute_2          0\n",
       "attribute_3          0\n",
       "measurement_0        0\n",
       "measurement_1        0\n",
       "measurement_2        0\n",
       "measurement_3      329\n",
       "measurement_4      409\n",
       "measurement_5      508\n",
       "measurement_6      624\n",
       "measurement_7      720\n",
       "measurement_8      846\n",
       "measurement_9      904\n",
       "measurement_10    1067\n",
       "measurement_11    1136\n",
       "measurement_12    1240\n",
       "measurement_13    1303\n",
       "measurement_14    1440\n",
       "measurement_15    1542\n",
       "measurement_16    1678\n",
       "measurement_17    1740\n",
       "dtype: int64"
      ]
     },
     "execution_count": 8,
     "metadata": {},
     "output_type": "execute_result"
    }
   ],
   "source": [
    "test_data.isnull().sum()"
   ]
  },
  {
   "cell_type": "code",
   "execution_count": 9,
   "id": "564a2f4f",
   "metadata": {
    "execution": {
     "iopub.execute_input": "2022-08-12T03:40:10.380755Z",
     "iopub.status.busy": "2022-08-12T03:40:10.379503Z",
     "iopub.status.idle": "2022-08-12T03:40:10.384755Z",
     "shell.execute_reply": "2022-08-12T03:40:10.383696Z"
    },
    "papermill": {
     "duration": 0.018987,
     "end_time": "2022-08-12T03:40:10.387223",
     "exception": false,
     "start_time": "2022-08-12T03:40:10.368236",
     "status": "completed"
    },
    "tags": []
   },
   "outputs": [],
   "source": [
    "# def fillna(df, cols, values):    \n",
    "#     new_df = df.copy()\n",
    "#     for col in cols:\n",
    "#         new_df[col] = new_df[col].fillna(values[col])\n",
    "#     return new_df\n",
    "# na_cols = train_data.columns[train_data.isnull().any()]\n",
    "# median = train_data[na_cols].median()\n",
    "# train = fillna(train_data, na_cols, median)\n",
    "# test = fillna(test_data, na_cols, median)\n"
   ]
  },
  {
   "cell_type": "code",
   "execution_count": 10,
   "id": "82e64d96",
   "metadata": {
    "execution": {
     "iopub.execute_input": "2022-08-12T03:40:10.409948Z",
     "iopub.status.busy": "2022-08-12T03:40:10.409544Z",
     "iopub.status.idle": "2022-08-12T03:40:10.418408Z",
     "shell.execute_reply": "2022-08-12T03:40:10.417637Z"
    },
    "papermill": {
     "duration": 0.022254,
     "end_time": "2022-08-12T03:40:10.420346",
     "exception": false,
     "start_time": "2022-08-12T03:40:10.398092",
     "status": "completed"
    },
    "tags": []
   },
   "outputs": [],
   "source": [
    "from lightgbm import LGBMRegressor\n",
    "class LightGBMInputer:\n",
    "    def __init__(self,df,**lgb_params):\n",
    "        self.df = df\n",
    "        self.verbose = False\n",
    "        self.lgb_params = lgb_params\n",
    "        self.nan_cols = df.columns[df.isnull().any()]\n",
    "    def impute(self):\n",
    "        for col in self.nan_cols:\n",
    "            if self.verbose:\n",
    "                print('Imputing %s' % col)\n",
    "            lightgbm = LGBMRegressor(**self.lgb_params)\n",
    "            nan_index = self.df[col].isnull()\n",
    "            train_index = ~nan_index\n",
    "            X_train = self.df.loc[train_index,self.df.columns != col]\n",
    "            y_train = self.df.loc[train_index,col]\n",
    "            X_test = self.df.loc[nan_index,self.df.columns != col]\n",
    "            lightgbm.fit(X_train,y_train,verbose=False)\n",
    "\n",
    "            self.df.loc[nan_index,col] = lightgbm.predict(X_test)\n",
    "        return self.df\n",
    "\n",
    "\n",
    "\n",
    "    \n"
   ]
  },
  {
   "cell_type": "code",
   "execution_count": 11,
   "id": "f0bdca3c",
   "metadata": {
    "execution": {
     "iopub.execute_input": "2022-08-12T03:40:10.441963Z",
     "iopub.status.busy": "2022-08-12T03:40:10.441107Z",
     "iopub.status.idle": "2022-08-12T03:40:10.449858Z",
     "shell.execute_reply": "2022-08-12T03:40:10.449067Z"
    },
    "papermill": {
     "duration": 0.021864,
     "end_time": "2022-08-12T03:40:10.452080",
     "exception": false,
     "start_time": "2022-08-12T03:40:10.430216",
     "status": "completed"
    },
    "tags": []
   },
   "outputs": [],
   "source": [
    "train = train_data.copy()\n",
    "test = test_data.copy()"
   ]
  },
  {
   "cell_type": "code",
   "execution_count": 12,
   "id": "fa2b4a17",
   "metadata": {
    "execution": {
     "iopub.execute_input": "2022-08-12T03:40:10.473889Z",
     "iopub.status.busy": "2022-08-12T03:40:10.473220Z",
     "iopub.status.idle": "2022-08-12T03:40:10.482920Z",
     "shell.execute_reply": "2022-08-12T03:40:10.481783Z"
    },
    "papermill": {
     "duration": 0.023294,
     "end_time": "2022-08-12T03:40:10.485321",
     "exception": false,
     "start_time": "2022-08-12T03:40:10.462027",
     "status": "completed"
    },
    "tags": []
   },
   "outputs": [],
   "source": [
    "# idea by ambroseM\n",
    "train['m3_isna'] = train['measurement_3'].isna().astype(int)\n",
    "test['m3_isna'] = test['measurement_3'].isna().astype(int)\n",
    "train['m5_isna'] = train['measurement_5'].isna().astype(int)\n",
    "test['m5_isna'] = test['measurement_5'].isna().astype(int)\n",
    "\n",
    "# https://www.kaggle.com/competitions/tabular-playground-series-aug-2022/discussion/343368\n",
    "train['measurement_(3*5)'] = train['measurement_3'] * train['measurement_5']\n",
    "test['measurement_(3*5)'] = test['measurement_3'] * test['measurement_5']\n",
    "\n",
    "train['missing_3*5'] = train['m3_isna'] * train['m5_isna']\n",
    "test['missing_3*5'] = test['m3_isna'] * test['m5_isna']\n",
    "\n"
   ]
  },
  {
   "cell_type": "markdown",
   "id": "674d3865",
   "metadata": {
    "papermill": {
     "duration": 0.009515,
     "end_time": "2022-08-12T03:40:10.504664",
     "exception": false,
     "start_time": "2022-08-12T03:40:10.495149",
     "status": "completed"
    },
    "tags": []
   },
   "source": [
    "Feature engineering idea by \n",
    "https://www.kaggle.com/code/desalegngeb/tps08-logisticregression-and-some-fe"
   ]
  },
  {
   "cell_type": "code",
   "execution_count": 13,
   "id": "c9294a85",
   "metadata": {
    "execution": {
     "iopub.execute_input": "2022-08-12T03:40:10.525944Z",
     "iopub.status.busy": "2022-08-12T03:40:10.525527Z",
     "iopub.status.idle": "2022-08-12T03:40:10.543022Z",
     "shell.execute_reply": "2022-08-12T03:40:10.541819Z"
    },
    "papermill": {
     "duration": 0.031321,
     "end_time": "2022-08-12T03:40:10.545820",
     "exception": false,
     "start_time": "2022-08-12T03:40:10.514499",
     "status": "completed"
    },
    "tags": []
   },
   "outputs": [],
   "source": [
    "train['area'] = train['attribute_2'] * train[   'attribute_3']\n",
    "test['area'] = test['attribute_2'] * test['attribute_3']\n",
    "\n",
    "# train.drop(['attribute_2', 'attribute_3'], axis=1, inplace=True)\n"
   ]
  },
  {
   "cell_type": "code",
   "execution_count": 14,
   "id": "89542453",
   "metadata": {
    "execution": {
     "iopub.execute_input": "2022-08-12T03:40:10.567641Z",
     "iopub.status.busy": "2022-08-12T03:40:10.566874Z",
     "iopub.status.idle": "2022-08-12T03:40:10.586268Z",
     "shell.execute_reply": "2022-08-12T03:40:10.585456Z"
    },
    "papermill": {
     "duration": 0.03314,
     "end_time": "2022-08-12T03:40:10.588769",
     "exception": false,
     "start_time": "2022-08-12T03:40:10.555629",
     "status": "completed"
    },
    "tags": []
   },
   "outputs": [],
   "source": [
    "# impute\n",
    "train['attribute_0'] = train['attribute_0'].astype('category')\n",
    "train['attribute_1'] = train['attribute_1'].astype('category')\n",
    "test['attribute_0'] = test['attribute_0'].astype('category')\n",
    "test['attribute_1'] = test['attribute_1'].astype('category')\n",
    "# feature = [col for col in train if col not in ['failure','product_code','id']]\n",
    "\n"
   ]
  },
  {
   "cell_type": "code",
   "execution_count": 15,
   "id": "a17632bb",
   "metadata": {
    "execution": {
     "iopub.execute_input": "2022-08-12T03:40:10.610545Z",
     "iopub.status.busy": "2022-08-12T03:40:10.610147Z",
     "iopub.status.idle": "2022-08-12T03:40:10.658032Z",
     "shell.execute_reply": "2022-08-12T03:40:10.656832Z"
    },
    "papermill": {
     "duration": 0.062157,
     "end_time": "2022-08-12T03:40:10.660883",
     "exception": false,
     "start_time": "2022-08-12T03:40:10.598726",
     "status": "completed"
    },
    "tags": []
   },
   "outputs": [],
   "source": [
    "meas_gr1_cols = [f\"measurement_{i:d}\" for i in list(list(range(3, 17)))]\n",
    "train['meas_avg'] = np.mean(train[meas_gr1_cols], axis=1)\n",
    "test['meas_avg'] = np.mean(test[meas_gr1_cols], axis=1)\n",
    "# train['std_gr1'] = np.std(train[meas_gr1_cols], axis=1)\n",
    "# test['std_gr1'] = np.std(test[meas_gr1_cols], axis=1)\n",
    "# train.drop(meas_gr1_cols, axis=1, inplace=True)\n",
    "# test.drop(meas_gr1_cols, axis=1, inplace=True)"
   ]
  },
  {
   "cell_type": "code",
   "execution_count": 16,
   "id": "e9697a78",
   "metadata": {},
   "outputs": [],
   "source": [
    "features = ['product_code', 'loading', 'measurement_0', 'measurement_1','attribute_0',\n",
    "       'measurement_2',  'measurement_17',\n",
    "        'm3_isna', 'm5_isna', 'measurement_(3*5)', 'missing_3*5',\n",
    "       'area', 'meas_avg']"
   ]
  },
  {
   "cell_type": "code",
   "execution_count": 17,
   "id": "6bc80ea3",
   "metadata": {},
   "outputs": [
    {
     "data": {
      "text/plain": [
       "Index(['id', 'product_code', 'loading', 'attribute_0', 'attribute_1',\n",
       "       'attribute_2', 'attribute_3', 'measurement_0', 'measurement_1',\n",
       "       'measurement_2', 'measurement_3', 'measurement_4', 'measurement_5',\n",
       "       'measurement_6', 'measurement_7', 'measurement_8', 'measurement_9',\n",
       "       'measurement_10', 'measurement_11', 'measurement_12', 'measurement_13',\n",
       "       'measurement_14', 'measurement_15', 'measurement_16', 'measurement_17',\n",
       "       'failure', 'm3_isna', 'm5_isna', 'measurement_(3*5)', 'missing_3*5',\n",
       "       'area', 'meas_avg'],\n",
       "      dtype='object')"
      ]
     },
     "execution_count": 17,
     "metadata": {},
     "output_type": "execute_result"
    }
   ],
   "source": [
    "train.columns"
   ]
  },
  {
   "cell_type": "code",
   "execution_count": 18,
   "id": "be67abed",
   "metadata": {
    "execution": {
     "iopub.execute_input": "2022-08-12T03:40:10.682914Z",
     "iopub.status.busy": "2022-08-12T03:40:10.682009Z",
     "iopub.status.idle": "2022-08-12T03:40:10.708402Z",
     "shell.execute_reply": "2022-08-12T03:40:10.707135Z"
    },
    "papermill": {
     "duration": 0.040492,
     "end_time": "2022-08-12T03:40:10.711240",
     "exception": false,
     "start_time": "2022-08-12T03:40:10.670748",
     "status": "completed"
    },
    "tags": []
   },
   "outputs": [],
   "source": [
    "\n",
    "def fit(X_train, y_train, X_test, y_test,test_df,model):\n",
    "    test =test_df.copy()\n",
    "    # knn = KNNImputer(n_neighbors=3)\n",
    "    # na_features = X_train.columns[X_train.isnull().any()]\n",
    "    # knn.fit(X_train[na_features])\n",
    "    # X_train[na_features] = knn.transform(X_train[na_features])\n",
    "    # X_test[na_features] = knn.transform(X_test[na_features])\n",
    "    features = [col for col in X_train.columns if col not in ['product_code','id']]\n",
    "    cols_to_transform = ['attribute_0']\n",
    "    X_train[cols_to_transform] = X_train[cols_to_transform].astype('category')\n",
    "    X_test[cols_to_transform] = X_test[cols_to_transform].astype('category')\n",
    "    lgb_params ={\n",
    "        'boosting_type': 'gbdt',\n",
    "        'max_depth': 3,\n",
    "        'num_leaves': 20,\n",
    "    }\n",
    "    X_train = LightGBMInputer(X_train[features],**lgb_params).impute()\n",
    "    X_test = LightGBMInputer(X_test[features],**lgb_params).impute()\n",
    "    ohe = OneHotEncoder(sparse=False,handle_unknown='ignore')\n",
    "    # tranforms\n",
    "    train_ohe = ohe.fit_transform(X_train[cols_to_transform])\n",
    "\n",
    "    test_ohe = ohe.transform(X_test[cols_to_transform])\n",
    "    X_train.drop(cols_to_transform, axis=1, inplace=True)\n",
    "    X_test.drop(cols_to_transform, axis=1, inplace=True)\n",
    "    X_train[ohe.get_feature_names(cols_to_transform)] = train_ohe\n",
    "    X_test[ohe.get_feature_names(cols_to_transform)] = test_ohe\n",
    "    \n",
    "    features2 = [col for col in X_train.columns if col not in ['product_code','id']]\n",
    "    numerical_cols = X_train.select_dtypes(include=[ 'float64']).columns\n",
    "    scaler = StandardScaler()\n",
    "    X_train[numerical_cols] = scaler.fit_transform(X_train[numerical_cols])\n",
    "    X_test [numerical_cols] = scaler.transform(X_test [numerical_cols])\n",
    "    model.fit(X_train[features2], y_train)\n",
    "\n",
    "    y_pred = model.predict_proba(X_test[features2])[:,1]\n",
    "    print('AUC:', roc_auc_score(y_test, y_pred))\n",
    "    # test[na_features] = knn.transform(test[na_features])\n",
    "    test[cols_to_transform] = test[cols_to_transform].astype('category')\n",
    "    test = LightGBMInputer(test[features]).impute()\n",
    "    test_ohe = ohe.transform(test[cols_to_transform])\n",
    "    test_ohe = pd.DataFrame(test_ohe, columns=ohe.get_feature_names(cols_to_transform))\n",
    "    test.drop(cols_to_transform, axis=1, inplace=True)\n",
    "    test[ohe.get_feature_names(cols_to_transform)] = test_ohe\n",
    "\n",
    "    test[numerical_cols] = scaler.transform(test[numerical_cols])\n",
    "    \n",
    "    test_pred = model.predict_proba(test[features2])[:,1]\n",
    "\n",
    "    # importance = model.coef_.ravel()\n",
    "    return test_pred,roc_auc_score(y_test, y_pred), y_pred\n",
    "\n",
    "def fit_lightgbm(X_train, y_train, X_test, y_test,test_df, model):\n",
    "    test =test_df.copy()\n",
    "    \n",
    "    # na_features = X_train.columns[X_train.isnull().any()]\n",
    "    # knn.fit(X_train[na_features])\n",
    "    # X_train[na_features] = knn.transform(X_train[na_features])\n",
    "    # X_test[na_features] = knn.transform(X_test[na_features])\n",
    "    features = [col for col in X_train.columns if col not in ['product_code','id']]\n",
    "    cols_to_transform = ['attribute_0']\n",
    "    X_train[cols_to_transform] = X_train[cols_to_transform].astype('category')\n",
    "    X_test[cols_to_transform] = X_test[cols_to_transform].astype('category')\n",
    "    lgb_params ={\n",
    "        'boosting_type': 'gbdt',\n",
    "        'max_depth': 2,\n",
    "        'num_leaves': 20,\n",
    "        'n_estimators':30\n",
    "    }\n",
    "    X_train = LightGBMInputer(X_train[features],**lgb_params).impute()\n",
    "    X_test = LightGBMInputer(X_test[features],**lgb_params).impute()\n",
    "    ohe = OneHotEncoder(sparse=False,handle_unknown='ignore')\n",
    "    # tranforms\n",
    "    \n",
    "   # for lightgbm\n",
    "    categorical_cols = train_data.select_dtypes(include=['category']).columns\n",
    "    model.fit(X_train[features], y_train, eval_set=[(X_train[features], y_train), (X_test[features], y_test)],early_stopping_rounds=120, verbose=False)\n",
    "    y_pred = model.predict_proba(X_test[features])[:,1]\n",
    "    print('AUC:', roc_auc_score(y_test, y_pred))\n",
    "    # test[na_features] = knn.transform(test[na_features])\n",
    "    test = LightGBMInputer(test[features]).impute()\n",
    "\n",
    "    test_pred = model.predict_proba(test[features])[:,1]\n",
    "    # importance = model.feature_importances_\n",
    "    return test_pred,roc_auc_score(y_test, y_pred), y_pred\n",
    "\n",
    "def fit_fold(train,target, test,fit_logreg=True):\n",
    "    \"\"\"\n",
    "    train: train data\n",
    "    target: target\n",
    "    test: test data\n",
    "    fit_logreg: boolean, whether to fit logistic regression or Lightgbm\n",
    "    \"\"\"\n",
    "    kfold = StratifiedKFold(n_splits=5, shuffle=True, random_state=42)\n",
    "    score=0\n",
    "    test_pred = np.zeros(test.shape[0])\n",
    "    y_pred = 0\n",
    "   \n",
    "    for train_index, test_index in kfold.split(train, target, groups=train['product_code']):\n",
    "        X_train, X_test = train.iloc[train_index], train.iloc[test_index]\n",
    "        y_train, y_test = target.iloc[train_index], target.iloc[test_index]\n",
    "#         params = {\n",
    "#     'n_estimators': 350,\n",
    "#     'objective': 'binary',\n",
    "#     'metric': 'auc',\n",
    "#     'num_leaves': 34,\n",
    "#     'learning_rate': 0.06,\n",
    "#     'colsample_bytree':0.5,\n",
    "#     'subsample':0.5,\n",
    "#     'verbose': -1\n",
    "# }\n",
    "#         lgbm = LGBMClassifier(**params)\n",
    "        if fit_logreg:\n",
    "            logreg = LogisticRegression(penalty='l1', random_state=1, solver='liblinear',C= 0.01,class_weight = 'balanced') \n",
    "            test_pred_, score_, y_pred_ = fit(X_train, y_train, X_test, y_test,test,logreg)\n",
    "        else:\n",
    "            lgb_params ={\n",
    "                 'boosting_type': 'gbdt',\n",
    "                    'max_depth': 2,\n",
    "                    'num_leaves': 20,\n",
    "                    'learning_rate': 0.08,\n",
    "                    'n_estimators': 20\n",
    "                \n",
    "            }\n",
    "\n",
    "            model = LGBMClassifier(**lgb_params)\n",
    "            test_pred_, score_, y_pred_ = fit_lightgbm(X_train, y_train, X_test, y_test,test,model)\n",
    "\n",
    "\n",
    "\n",
    "        \n",
    "        test_pred += test_pred_\n",
    "        score += score_\n",
    "        # y_pred += y_pred_\n",
    "   \n",
    "    \n",
    "    return score/5, test_pred/5,y_pred/5\n",
    "\n",
    "\n",
    "\n",
    "    \n"
   ]
  },
  {
   "cell_type": "code",
   "execution_count": 19,
   "id": "df40d363",
   "metadata": {
    "execution": {
     "iopub.execute_input": "2022-08-12T03:40:10.733042Z",
     "iopub.status.busy": "2022-08-12T03:40:10.731979Z",
     "iopub.status.idle": "2022-08-12T03:40:23.539294Z",
     "shell.execute_reply": "2022-08-12T03:40:23.538292Z"
    },
    "papermill": {
     "duration": 12.820412,
     "end_time": "2022-08-12T03:40:23.541712",
     "exception": false,
     "start_time": "2022-08-12T03:40:10.721300",
     "status": "completed"
    },
    "tags": []
   },
   "outputs": [
    {
     "name": "stdout",
     "output_type": "stream",
     "text": [
      "AUC: 0.5918841067416741\n",
      "AUC: 0.5864246856968814\n",
      "AUC: 0.5951390886478621\n",
      "AUC: 0.5788551836748507\n",
      "AUC: 0.5871004585525982\n",
      "Lightgbm score: 0.5878807046627733\n",
      "CPU times: user 12.8 s, sys: 237 ms, total: 13.1 s\n",
      "Wall time: 3.56 s\n"
     ]
    }
   ],
   "source": [
    "%%time\n",
    "lightgbm_score , test_pred_lgb,y_pred = fit_fold(train[features], train.failure, test,fit_logreg=False)\n",
    "print('Lightgbm score:', lightgbm_score)\n"
   ]
  },
  {
   "cell_type": "code",
   "execution_count": 23,
   "id": "a0190b7e",
   "metadata": {
    "execution": {
     "iopub.execute_input": "2022-08-12T03:40:23.565590Z",
     "iopub.status.busy": "2022-08-12T03:40:23.565181Z",
     "iopub.status.idle": "2022-08-12T03:40:41.812220Z",
     "shell.execute_reply": "2022-08-12T03:40:41.808011Z"
    },
    "papermill": {
     "duration": 18.265254,
     "end_time": "2022-08-12T03:40:41.818666",
     "exception": false,
     "start_time": "2022-08-12T03:40:23.553412",
     "status": "completed"
    },
    "tags": []
   },
   "outputs": [
    {
     "name": "stdout",
     "output_type": "stream",
     "text": [
      "AUC: 0.5967742993715164\n",
      "AUC: 0.5928863009526387\n",
      "AUC: 0.5964916919068004\n",
      "AUC: 0.58057771705105\n",
      "AUC: 0.5862332695984703\n",
      "logreg_score: 0.5905926557760952\n",
      "CPU times: user 17.6 s, sys: 1.12 s, total: 18.7 s\n",
      "Wall time: 5.39 s\n"
     ]
    }
   ],
   "source": [
    "%%time\n",
    "logreg_score , test_pred_logreg,y_pred = fit_fold( train[features], train.failure, test)\n",
    "print('logreg_score:', logreg_score)\n",
    "# 0.5900"
   ]
  },
  {
   "cell_type": "markdown",
   "id": "186e6674",
   "metadata": {
    "papermill": {
     "duration": 0.02545,
     "end_time": "2022-08-12T03:40:41.870421",
     "exception": false,
     "start_time": "2022-08-12T03:40:41.844971",
     "status": "completed"
    },
    "tags": []
   },
   "source": [
    "using logistic regression as final submission"
   ]
  },
  {
   "cell_type": "code",
   "execution_count": 42,
   "id": "e65d5110",
   "metadata": {
    "execution": {
     "iopub.execute_input": "2022-08-12T03:40:41.922323Z",
     "iopub.status.busy": "2022-08-12T03:40:41.921958Z",
     "iopub.status.idle": "2022-08-12T03:40:41.991203Z",
     "shell.execute_reply": "2022-08-12T03:40:41.990253Z"
    },
    "papermill": {
     "duration": 0.097513,
     "end_time": "2022-08-12T03:40:41.993712",
     "exception": false,
     "start_time": "2022-08-12T03:40:41.896199",
     "status": "completed"
    },
    "tags": []
   },
   "outputs": [],
   "source": [
    "sample_submission = pd.read_csv('data/sample_submission.csv')\n",
    "sample_submission.failure = test_pred_logreg\n",
    "sample_submission.to_csv('submission.csv', index=False)"
   ]
  },
  {
   "cell_type": "code",
   "execution_count": 44,
   "id": "1476558d",
   "metadata": {},
   "outputs": [
    {
     "name": "stderr",
     "output_type": "stream",
     "text": [
      "100%|██████████| 511k/511k [00:02<00:00, 215kB/s]\n"
     ]
    },
    {
     "name": "stdout",
     "output_type": "stream",
     "text": [
      "Successfully submitted to Tabular Playground Series - Aug 2022"
     ]
    },
    {
     "data": {
      "text/plain": [
       "0"
      ]
     },
     "execution_count": 44,
     "metadata": {},
     "output_type": "execute_result"
    }
   ],
   "source": [
    "import os\n",
    "os.system('kaggle competitions submit -c \"tabular-playground-series-aug-2022 \" -f submission.csv -m \"logreg submission\"' )"
   ]
  },
  {
   "cell_type": "markdown",
   "id": "c191dbbc",
   "metadata": {
    "papermill": {
     "duration": 0.010556,
     "end_time": "2022-08-12T03:40:42.014995",
     "exception": false,
     "start_time": "2022-08-12T03:40:42.004439",
     "status": "completed"
    },
    "tags": []
   },
   "source": [
    "Next ensembling multiple model"
   ]
  }
 ],
 "metadata": {
  "kernelspec": {
   "display_name": "Python 3.10.4 ('stat')",
   "language": "python",
   "name": "python3"
  },
  "language_info": {
   "codemirror_mode": {
    "name": "ipython",
    "version": 3
   },
   "file_extension": ".py",
   "mimetype": "text/x-python",
   "name": "python",
   "nbconvert_exporter": "python",
   "pygments_lexer": "ipython3",
   "version": "3.10.4"
  },
  "papermill": {
   "default_parameters": {},
   "duration": 49.113013,
   "end_time": "2022-08-12T03:40:42.847998",
   "environment_variables": {},
   "exception": null,
   "input_path": "__notebook__.ipynb",
   "output_path": "__notebook__.ipynb",
   "parameters": {},
   "start_time": "2022-08-12T03:39:53.734985",
   "version": "2.3.4"
  },
  "vscode": {
   "interpreter": {
    "hash": "153400cfb79e6435c1b729fad1d122747b6c386da6265ba20ecaebe0030c58cb"
   }
  }
 },
 "nbformat": 4,
 "nbformat_minor": 5
}
