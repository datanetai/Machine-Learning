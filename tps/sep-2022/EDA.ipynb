{
 "cells": [
  {
   "cell_type": "code",
   "execution_count": 1,
   "metadata": {},
   "outputs": [],
   "source": [
    "import pandas as pd\n",
    "import numpy as np\n",
    "import matplotlib.pyplot as plt\n",
    "import seaborn as sns\n",
    "plt.style.use('ggplot')"
   ]
  },
  {
   "cell_type": "code",
   "execution_count": 2,
   "metadata": {},
   "outputs": [
    {
     "data": {
      "text/html": [
       "<div>\n",
       "<style scoped>\n",
       "    .dataframe tbody tr th:only-of-type {\n",
       "        vertical-align: middle;\n",
       "    }\n",
       "\n",
       "    .dataframe tbody tr th {\n",
       "        vertical-align: top;\n",
       "    }\n",
       "\n",
       "    .dataframe thead th {\n",
       "        text-align: right;\n",
       "    }\n",
       "</style>\n",
       "<table border=\"1\" class=\"dataframe\">\n",
       "  <thead>\n",
       "    <tr style=\"text-align: right;\">\n",
       "      <th></th>\n",
       "      <th>row_id</th>\n",
       "      <th>date</th>\n",
       "      <th>country</th>\n",
       "      <th>store</th>\n",
       "      <th>product</th>\n",
       "      <th>num_sold</th>\n",
       "    </tr>\n",
       "  </thead>\n",
       "  <tbody>\n",
       "    <tr>\n",
       "      <th>0</th>\n",
       "      <td>0</td>\n",
       "      <td>2017-01-01</td>\n",
       "      <td>Belgium</td>\n",
       "      <td>KaggleMart</td>\n",
       "      <td>Kaggle Advanced Techniques</td>\n",
       "      <td>663</td>\n",
       "    </tr>\n",
       "    <tr>\n",
       "      <th>1</th>\n",
       "      <td>1</td>\n",
       "      <td>2017-01-01</td>\n",
       "      <td>Belgium</td>\n",
       "      <td>KaggleMart</td>\n",
       "      <td>Kaggle Getting Started</td>\n",
       "      <td>615</td>\n",
       "    </tr>\n",
       "    <tr>\n",
       "      <th>2</th>\n",
       "      <td>2</td>\n",
       "      <td>2017-01-01</td>\n",
       "      <td>Belgium</td>\n",
       "      <td>KaggleMart</td>\n",
       "      <td>Kaggle Recipe Book</td>\n",
       "      <td>480</td>\n",
       "    </tr>\n",
       "    <tr>\n",
       "      <th>3</th>\n",
       "      <td>3</td>\n",
       "      <td>2017-01-01</td>\n",
       "      <td>Belgium</td>\n",
       "      <td>KaggleMart</td>\n",
       "      <td>Kaggle for Kids: One Smart Goose</td>\n",
       "      <td>710</td>\n",
       "    </tr>\n",
       "    <tr>\n",
       "      <th>4</th>\n",
       "      <td>4</td>\n",
       "      <td>2017-01-01</td>\n",
       "      <td>Belgium</td>\n",
       "      <td>KaggleRama</td>\n",
       "      <td>Kaggle Advanced Techniques</td>\n",
       "      <td>240</td>\n",
       "    </tr>\n",
       "  </tbody>\n",
       "</table>\n",
       "</div>"
      ],
      "text/plain": [
       "   row_id       date  country       store                           product  \\\n",
       "0       0 2017-01-01  Belgium  KaggleMart        Kaggle Advanced Techniques   \n",
       "1       1 2017-01-01  Belgium  KaggleMart            Kaggle Getting Started   \n",
       "2       2 2017-01-01  Belgium  KaggleMart                Kaggle Recipe Book   \n",
       "3       3 2017-01-01  Belgium  KaggleMart  Kaggle for Kids: One Smart Goose   \n",
       "4       4 2017-01-01  Belgium  KaggleRama        Kaggle Advanced Techniques   \n",
       "\n",
       "   num_sold  \n",
       "0       663  \n",
       "1       615  \n",
       "2       480  \n",
       "3       710  \n",
       "4       240  "
      ]
     },
     "execution_count": 2,
     "metadata": {},
     "output_type": "execute_result"
    }
   ],
   "source": [
    "train = pd.read_csv('data/train.csv', parse_dates=['date'])\n",
    "test = pd.read_csv('data/test.csv', parse_dates=['date'])\n",
    "\n",
    "train.head()\n"
   ]
  },
  {
   "cell_type": "code",
   "execution_count": 3,
   "metadata": {},
   "outputs": [
    {
     "name": "stdout",
     "output_type": "stream",
     "text": [
      "train min date: 2017-01-01 00:00:00\n",
      "train max date: 2020-12-31 00:00:00\n",
      "test min date: 2021-01-01 00:00:00\n",
      "test max date: 2021-12-31 00:00:00\n"
     ]
    }
   ],
   "source": [
    "# min and max date\n",
    "print(\"train min date:\", train['date'].min())\n",
    "print(\"train max date:\", train['date'].max())\n",
    "print(\"test min date:\", test['date'].min())\n",
    "print(\"test max date:\", test['date'].max())"
   ]
  },
  {
   "cell_type": "code",
   "execution_count": 5,
   "metadata": {},
   "outputs": [],
   "source": [
    "# train.groupby(['country','store','product'])['num_sold'].mean().unstack().plot(kind='bar',stacked=True)\n",
    "# plt.show()"
   ]
  },
  {
   "cell_type": "code",
   "execution_count": null,
   "metadata": {},
   "outputs": [],
   "source": [
    "# tmp = train.groupby(['country','store','product'])\n",
    "# # plot\n",
    "# # showing only two plots\n",
    "# plt.figure(figsize=(12,32))\n",
    "# for i, (country, store, product) in enumerate(tmp.groups.keys()):\n",
    "#     plt.subplot(len(tmp.groups.keys())//3, 3, i+1)\n",
    "#     plt.plot(tmp.get_group((country, store, product))['date'], tmp.get_group((country, store, product))['num_sold'])\n",
    "#     plt.title('{} - {} - {}'.format(country, store, product), fontsize=9)\n",
    "#     plt.xticks(rotation=45)\n",
    "\n",
    "\n",
    "    \n",
    "# plt.subplots_adjust(hspace=1)\n",
    "# plt.show()\n",
    "\n"
   ]
  },
  {
   "cell_type": "code",
   "execution_count": null,
   "metadata": {},
   "outputs": [],
   "source": [
    "# tmp = train.groupby(['country','store','product'])\n",
    "# # get first group\n",
    "# country, store, product = list(tmp.groups.keys())[0]\n",
    "# tmp = tmp.get_group((country, store, product))\n",
    "# tmp = tmp.set_index('date')\n",
    "# # plot daily sales\n",
    "\n",
    "# tmp['num_sold']['2019-01-01':'2020-01-01'].plot()\n",
    "# plt.title('{} - {} - {}'.format(country, store, product), fontsize=9)\n",
    "# plt.xticks(rotation=45)\n",
    "# plt.show()\n",
    "\n"
   ]
  },
  {
   "cell_type": "code",
   "execution_count": 7,
   "metadata": {},
   "outputs": [],
   "source": [
    "# # december sales\n",
    "# tmp['num_sold']['2019-12-01':'2020-01-01'].plot()\n",
    "# plt.title('{} - {} - {}'.format(country, store, product), fontsize=9)\n",
    "# plt.xticks(rotation=45)\n",
    "# plt.show()"
   ]
  },
  {
   "cell_type": "code",
   "execution_count": 8,
   "metadata": {},
   "outputs": [],
   "source": [
    "# # group by store\n",
    "# plt.figure(figsize=(12,5))\n",
    "# tmp = train.groupby(['store'])[[\"num_sold\"]].mean()\n",
    "# tmp.plot(kind='bar')\n",
    "# plt.show() "
   ]
  },
  {
   "cell_type": "code",
   "execution_count": 9,
   "metadata": {},
   "outputs": [],
   "source": [
    "# # gruop by country\n",
    "# plt.figure(figsize=(12,5))\n",
    "# tmp = train.groupby(['country'])[[\"num_sold\"]].mean()\n",
    "# tmp.plot(kind='bar')\n",
    "# plt.show()"
   ]
  },
  {
   "cell_type": "code",
   "execution_count": 10,
   "metadata": {},
   "outputs": [],
   "source": [
    "# # end of year\n",
    "# plt.figure(figsize=(12,5))\n",
    "# # month == 12 and month == 1\n",
    "# tmp = train[train['date'].dt.month == 12]\n",
    "# tmp = tmp.groupby(tmp.date.dt.day)['num_sold'].mean()\n",
    "# tmp.plot(kind='bar', color='red', label='December', alpha=0.5)\n",
    "# #\n",
    "# tmp2 = train[train['date'].dt.month == 1]\n",
    "# tmp2 = tmp2.groupby(tmp2.date.dt.day)['num_sold'].mean()\n",
    "# tmp2.plot(kind='bar', color='blue', label='January', alpha=0.5)\n",
    "# plt.legend()\n",
    "# plt.show()"
   ]
  },
  {
   "cell_type": "code",
   "execution_count": null,
   "metadata": {},
   "outputs": [],
   "source": []
  }
 ],
 "metadata": {
  "kernelspec": {
   "display_name": "stat:Python",
   "language": "python",
   "name": "conda-env-stat-py"
  },
  "language_info": {
   "codemirror_mode": {
    "name": "ipython",
    "version": 3
   },
   "file_extension": ".py",
   "mimetype": "text/x-python",
   "name": "python",
   "nbconvert_exporter": "python",
   "pygments_lexer": "ipython3",
   "version": "3.10.5"
  },
  "vscode": {
   "interpreter": {
    "hash": "4d6734068ad1670f3c8827b5ca793e16c6879e0d68f4887b78deb3321925be08"
   }
  }
 },
 "nbformat": 4,
 "nbformat_minor": 4
}
