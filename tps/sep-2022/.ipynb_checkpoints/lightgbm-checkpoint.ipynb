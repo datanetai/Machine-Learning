{
 "cells": [
  {
   "cell_type": "code",
   "execution_count": 1,
   "id": "8eaa6c44",
   "metadata": {
    "execution": {
     "iopub.execute_input": "2022-09-01T03:20:25.883697Z",
     "iopub.status.busy": "2022-09-01T03:20:25.882640Z",
     "iopub.status.idle": "2022-09-01T03:20:28.301620Z",
     "shell.execute_reply": "2022-09-01T03:20:28.299527Z"
    },
    "papermill": {
     "duration": 2.42896,
     "end_time": "2022-09-01T03:20:28.305234",
     "exception": false,
     "start_time": "2022-09-01T03:20:25.876274",
     "status": "completed"
    },
    "tags": []
   },
   "outputs": [],
   "source": [
    "import pandas as pd\n",
    "import numpy as np\n",
    "import matplotlib.pyplot as plt\n",
    "import seaborn as sns\n",
    "from sklearn.model_selection import TimeSeriesSplit\n",
    "from sklearn.model_selection import KFold\n",
    "from catboost import CatBoostRegressor\n",
    "import dateutil.easter as easter\n",
    "from lightgbm import LGBMRegressor\n",
    "import lightgbm as lgb\n",
    "plt.style.use('ggplot')"
   ]
  },
  {
   "cell_type": "code",
   "execution_count": 2,
   "id": "69dca135",
   "metadata": {
    "execution": {
     "iopub.execute_input": "2022-09-01T03:20:28.315185Z",
     "iopub.status.busy": "2022-09-01T03:20:28.313423Z",
     "iopub.status.idle": "2022-09-01T03:20:28.504399Z",
     "shell.execute_reply": "2022-09-01T03:20:28.503169Z"
    },
    "papermill": {
     "duration": 0.197941,
     "end_time": "2022-09-01T03:20:28.506874",
     "exception": false,
     "start_time": "2022-09-01T03:20:28.308933",
     "status": "completed"
    },
    "tags": []
   },
   "outputs": [
    {
     "data": {
      "text/html": [
       "<div>\n",
       "<style scoped>\n",
       "    .dataframe tbody tr th:only-of-type {\n",
       "        vertical-align: middle;\n",
       "    }\n",
       "\n",
       "    .dataframe tbody tr th {\n",
       "        vertical-align: top;\n",
       "    }\n",
       "\n",
       "    .dataframe thead th {\n",
       "        text-align: right;\n",
       "    }\n",
       "</style>\n",
       "<table border=\"1\" class=\"dataframe\">\n",
       "  <thead>\n",
       "    <tr style=\"text-align: right;\">\n",
       "      <th></th>\n",
       "      <th>row_id</th>\n",
       "      <th>date</th>\n",
       "      <th>country</th>\n",
       "      <th>store</th>\n",
       "      <th>product</th>\n",
       "      <th>num_sold</th>\n",
       "    </tr>\n",
       "  </thead>\n",
       "  <tbody>\n",
       "    <tr>\n",
       "      <th>0</th>\n",
       "      <td>0</td>\n",
       "      <td>2017-01-01</td>\n",
       "      <td>Belgium</td>\n",
       "      <td>KaggleMart</td>\n",
       "      <td>Kaggle Advanced Techniques</td>\n",
       "      <td>663</td>\n",
       "    </tr>\n",
       "    <tr>\n",
       "      <th>1</th>\n",
       "      <td>1</td>\n",
       "      <td>2017-01-01</td>\n",
       "      <td>Belgium</td>\n",
       "      <td>KaggleMart</td>\n",
       "      <td>Kaggle Getting Started</td>\n",
       "      <td>615</td>\n",
       "    </tr>\n",
       "    <tr>\n",
       "      <th>2</th>\n",
       "      <td>2</td>\n",
       "      <td>2017-01-01</td>\n",
       "      <td>Belgium</td>\n",
       "      <td>KaggleMart</td>\n",
       "      <td>Kaggle Recipe Book</td>\n",
       "      <td>480</td>\n",
       "    </tr>\n",
       "    <tr>\n",
       "      <th>3</th>\n",
       "      <td>3</td>\n",
       "      <td>2017-01-01</td>\n",
       "      <td>Belgium</td>\n",
       "      <td>KaggleMart</td>\n",
       "      <td>Kaggle for Kids: One Smart Goose</td>\n",
       "      <td>710</td>\n",
       "    </tr>\n",
       "    <tr>\n",
       "      <th>4</th>\n",
       "      <td>4</td>\n",
       "      <td>2017-01-01</td>\n",
       "      <td>Belgium</td>\n",
       "      <td>KaggleRama</td>\n",
       "      <td>Kaggle Advanced Techniques</td>\n",
       "      <td>240</td>\n",
       "    </tr>\n",
       "  </tbody>\n",
       "</table>\n",
       "</div>"
      ],
      "text/plain": [
       "   row_id       date  country       store                           product  \\\n",
       "0       0 2017-01-01  Belgium  KaggleMart        Kaggle Advanced Techniques   \n",
       "1       1 2017-01-01  Belgium  KaggleMart            Kaggle Getting Started   \n",
       "2       2 2017-01-01  Belgium  KaggleMart                Kaggle Recipe Book   \n",
       "3       3 2017-01-01  Belgium  KaggleMart  Kaggle for Kids: One Smart Goose   \n",
       "4       4 2017-01-01  Belgium  KaggleRama        Kaggle Advanced Techniques   \n",
       "\n",
       "   num_sold  \n",
       "0       663  \n",
       "1       615  \n",
       "2       480  \n",
       "3       710  \n",
       "4       240  "
      ]
     },
     "execution_count": 2,
     "metadata": {},
     "output_type": "execute_result"
    }
   ],
   "source": [
    "train = pd.read_csv('data/train.csv', parse_dates=['date'])\n",
    "test = pd.read_csv('data/test.csv', parse_dates=['date'])\n",
    "\n",
    "train.head()\n"
   ]
  },
  {
   "cell_type": "code",
   "execution_count": 3,
   "id": "1ac69da4",
   "metadata": {
    "execution": {
     "iopub.execute_input": "2022-09-01T03:20:28.515439Z",
     "iopub.status.busy": "2022-09-01T03:20:28.514994Z",
     "iopub.status.idle": "2022-09-01T03:20:28.529602Z",
     "shell.execute_reply": "2022-09-01T03:20:28.527968Z"
    },
    "papermill": {
     "duration": 0.022748,
     "end_time": "2022-09-01T03:20:28.533101",
     "exception": false,
     "start_time": "2022-09-01T03:20:28.510353",
     "status": "completed"
    },
    "tags": []
   },
   "outputs": [
    {
     "name": "stdout",
     "output_type": "stream",
     "text": [
      "train min date: 2017-01-01 00:00:00\n",
      "train max date: 2020-12-31 00:00:00\n",
      "test min date: 2021-01-01 00:00:00\n",
      "test max date: 2021-12-31 00:00:00\n"
     ]
    }
   ],
   "source": [
    "# min and max date\n",
    "print(\"train min date:\", train['date'].min())\n",
    "print(\"train max date:\", train['date'].max())\n",
    "print(\"test min date:\", test['date'].min())\n",
    "print(\"test max date:\", test['date'].max())"
   ]
  },
  {
   "cell_type": "code",
   "execution_count": 4,
   "id": "02190130",
   "metadata": {
    "execution": {
     "iopub.execute_input": "2022-09-01T03:20:28.541956Z",
     "iopub.status.busy": "2022-09-01T03:20:28.541449Z",
     "iopub.status.idle": "2022-09-01T03:20:28.961513Z",
     "shell.execute_reply": "2022-09-01T03:20:28.960277Z"
    },
    "papermill": {
     "duration": 0.427423,
     "end_time": "2022-09-01T03:20:28.964090",
     "exception": false,
     "start_time": "2022-09-01T03:20:28.536667",
     "status": "completed"
    },
    "tags": []
   },
   "outputs": [],
   "source": [
    "# # sales \n",
    "# train.groupby(['country','store','product'])['num_sold'].mean().unstack().plot(kind='bar',stacked=True)\n",
    "# plt.show()"
   ]
  },
  {
   "cell_type": "markdown",
   "id": "6addc8fc",
   "metadata": {},
   "source": [
    "There are six countries, two stores, and six products."
   ]
  },
  {
   "cell_type": "markdown",
   "id": "20c31616",
   "metadata": {},
   "source": [
    "Plot of all combination of countries, stores, and products."
   ]
  },
  {
   "cell_type": "code",
   "execution_count": 5,
   "id": "ad886c52",
   "metadata": {
    "execution": {
     "iopub.execute_input": "2022-09-01T03:20:28.973892Z",
     "iopub.status.busy": "2022-09-01T03:20:28.973459Z",
     "iopub.status.idle": "2022-09-01T03:20:29.616817Z",
     "shell.execute_reply": "2022-09-01T03:20:29.615497Z"
    },
    "papermill": {
     "duration": 0.652643,
     "end_time": "2022-09-01T03:20:29.620809",
     "exception": false,
     "start_time": "2022-09-01T03:20:28.968166",
     "status": "completed"
    },
    "tags": []
   },
   "outputs": [],
   "source": [
    "# tmp = train.groupby(['country','store','product'])\n",
    "# # plot\n",
    "# # showing only two plots\n",
    "# plt.figure(figsize=(12,32))\n",
    "# for i, (country, store, product) in enumerate(tmp.groups.keys()):\n",
    "#     plt.subplot(len(tmp.groups.keys())//3, 3, i+1)\n",
    "#     plt.plot(tmp.get_group((country, store, product))['date'], tmp.get_group((country, store, product))['num_sold'])\n",
    "#     plt.title('{} - {} - {}'.format(country, store, product), fontsize=9)\n",
    "#     plt.xticks(rotation=45)\n",
    "\n",
    "\n",
    "    \n",
    "# plt.subplots_adjust(hspace=1)\n",
    "# plt.show()\n",
    "\n"
   ]
  },
  {
   "cell_type": "markdown",
   "id": "dfa9a2d5",
   "metadata": {},
   "source": [
    "Zooming in on the first country, store, and product sales"
   ]
  },
  {
   "cell_type": "code",
   "execution_count": 39,
   "id": "b99f28ae",
   "metadata": {},
   "outputs": [],
   "source": [
    "# tmp = train.groupby(['country','store','product'])\n",
    "# # get first group\n",
    "# country, store, product = list(tmp.groups.keys())[0]\n",
    "# tmp = tmp.get_group((country, store, product))\n",
    "# tmp = tmp.set_index('date')\n",
    "# # plot daily sales\n",
    "\n",
    "# tmp['num_sold']['2019-01-01':'2020-01-01'].plot()\n",
    "# plt.title('{} - {} - {}'.format(country, store, product), fontsize=9)\n",
    "# plt.xticks(rotation=45)\n",
    "# plt.show()\n",
    "\n"
   ]
  },
  {
   "cell_type": "code",
   "execution_count": 40,
   "id": "36f6aab3",
   "metadata": {},
   "outputs": [],
   "source": [
    "# # december sales\n",
    "# tmp['num_sold']['2019-12-01':'2020-01-01'].plot()\n",
    "# plt.title('{} - {} - {}'.format(country, store, product), fontsize=9)\n",
    "# plt.xticks(rotation=45)\n",
    "# plt.show()"
   ]
  },
  {
   "cell_type": "code",
   "execution_count": 6,
   "id": "4ce79670",
   "metadata": {},
   "outputs": [],
   "source": [
    "# # group by store\n",
    "# plt.figure(figsize=(12,5))\n",
    "# tmp = train.groupby(['store'])[[\"num_sold\"]].mean()\n",
    "# tmp.plot(kind='bar')\n",
    "# plt.show() "
   ]
  },
  {
   "cell_type": "code",
   "execution_count": 80,
   "id": "6e42dea4",
   "metadata": {},
   "outputs": [],
   "source": [
    "# # gruop by country\n",
    "# plt.figure(figsize=(12,5))\n",
    "# tmp = train.groupby(['country'])[[\"num_sold\"]].mean()\n",
    "# tmp.plot(kind='bar')\n",
    "# plt.show()"
   ]
  },
  {
   "cell_type": "markdown",
   "id": "ee68bc8e",
   "metadata": {},
   "source": [
    "Average sales in december"
   ]
  },
  {
   "cell_type": "code",
   "execution_count": 21,
   "id": "f315eaa5",
   "metadata": {},
   "outputs": [],
   "source": [
    "# # end of year\n",
    "# plt.figure(figsize=(12,5))\n",
    "# # month == 12 and month == 1\n",
    "# tmp = train[train['date'].dt.month == 12]\n",
    "# tmp = tmp.groupby(tmp.date.dt.day)['num_sold'].mean()\n",
    "# tmp.plot(kind='bar', color='red', label='December', alpha=0.5)\n",
    "# #\n",
    "# tmp2 = train[train['date'].dt.month == 1]\n",
    "# tmp2 = tmp2.groupby(tmp2.date.dt.day)['num_sold'].mean()\n",
    "# tmp2.plot(kind='bar', color='blue', label='January', alpha=0.5)\n",
    "# plt.legend()\n",
    "# plt.show()"
   ]
  },
  {
   "cell_type": "code",
   "execution_count": 44,
   "id": "27c1ad5c",
   "metadata": {},
   "outputs": [],
   "source": [
    "# # group by weekday\n",
    "# tmp = train.groupby(train.date.dt.weekday)['num_sold'].mean()\n",
    "# tmp.plot(kind='bar')"
   ]
  },
  {
   "cell_type": "code",
   "execution_count": 41,
   "id": "7d7c0eaf",
   "metadata": {},
   "outputs": [],
   "source": [
    "# # target distribution\n",
    "# sns.histplot(train['num_sold'],kde=True)\n",
    "# plt.show()"
   ]
  },
  {
   "cell_type": "code",
   "execution_count": 3,
   "id": "f3eeacde",
   "metadata": {},
   "outputs": [
    {
     "data": {
      "image/png": "[encoded data removed]",
      "text/plain": [
       "<Figure size 640x480 with 1 Axes>"
      ]
     },
     "metadata": {},
     "output_type": "display_data"
    }
   ],
   "source": [
    "# box cox transformation \n",
    "from scipy.stats import boxcox\n",
    "\n",
    "from scipy.special import inv_boxcox\n",
    "train_data = train.copy()\n",
    "train_data['num_sold'], lam = boxcox(train_data['num_sold'])\n",
    "sns.histplot(train_data['num_sold'],kde=True)\n",
    "plt.show()"
   ]
  },
  {
   "cell_type": "markdown",
   "id": "8c034a68",
   "metadata": {
    "papermill": {
     "duration": 0.005657,
     "end_time": "2022-09-01T03:20:29.632575",
     "exception": false,
     "start_time": "2022-09-01T03:20:29.626918",
     "status": "completed"
    },
    "tags": []
   },
   "source": [
    "Lightgbm baseline"
   ]
  },
  {
   "cell_type": "code",
   "execution_count": 4,
   "id": "3d48b839",
   "metadata": {
    "execution": {
     "iopub.execute_input": "2022-09-01T03:20:29.646626Z",
     "iopub.status.busy": "2022-09-01T03:20:29.645605Z",
     "iopub.status.idle": "2022-09-01T03:20:29.725796Z",
     "shell.execute_reply": "2022-09-01T03:20:29.724363Z"
    },
    "papermill": {
     "duration": 0.090105,
     "end_time": "2022-09-01T03:20:29.728532",
     "exception": false,
     "start_time": "2022-09-01T03:20:29.638427",
     "status": "completed"
    },
    "tags": []
   },
   "outputs": [],
   "source": [
    "\n",
    "def feature_encode(df):\n",
    "    \n",
    "    df['day'] = df['date'].dt.dayofyear\n",
    "    # df['dayofweek'] = df['date'].dt.dayofweek\n",
    "    df['month'] = df['date'].dt.month\n",
    "    df['year'] = df['date'].dt.year\n",
    " \n",
    "\n",
    "    # year  \n",
    "    df['weekend'] = df['date'].dt.weekday.isin([5,6])\n",
    "    # friday\n",
    "    # # december 26-31\n",
    "    \n",
    "    # easter_date = df.date.apply(lambda date: pd.Timestamp(easter.easter(date.year)))\n",
    "    # df['easter'] = df.date.isin(easter_date)\n",
    "    for col in ['country','store','product']:\n",
    "        df[col] = df[col].astype('category')\n",
    "\n",
    "    return df\n",
    "train_data = train.copy()\n",
    "\n",
    "train_data['num_sold'], lam = boxcox(train_data['num_sold'])\n",
    "\n",
    "train_data = feature_encode(train_data)\n",
    "test_data = feature_encode(test)\n",
    "features = [col for col in train_data.columns if col not in ['row_id','num_sold','date']]"
   ]
  },
  {
   "cell_type": "code",
   "execution_count": 5,
   "id": "d5aecc9e",
   "metadata": {
    "execution": {
     "iopub.execute_input": "2022-09-01T03:20:29.742015Z",
     "iopub.status.busy": "2022-09-01T03:20:29.741597Z",
     "iopub.status.idle": "2022-09-01T03:20:29.747081Z",
     "shell.execute_reply": "2022-09-01T03:20:29.745888Z"
    },
    "papermill": {
     "duration": 0.015043,
     "end_time": "2022-09-01T03:20:29.749403",
     "exception": false,
     "start_time": "2022-09-01T03:20:29.734360",
     "status": "completed"
    },
    "tags": []
   },
   "outputs": [],
   "source": [
    "def smape(y_true, y_pred):\n",
    "    return np.mean(np.abs(y_true - y_pred) / (np.abs(y_true) + np.abs(y_pred))) * 200"
   ]
  },
  {
   "cell_type": "code",
   "execution_count": 6,
   "id": "5a6cf1d5",
   "metadata": {
    "execution": {
     "iopub.execute_input": "2022-09-01T03:20:29.762952Z",
     "iopub.status.busy": "2022-09-01T03:20:29.762529Z",
     "iopub.status.idle": "2022-09-01T03:20:35.246669Z",
     "shell.execute_reply": "2022-09-01T03:20:35.245403Z"
    },
    "papermill": {
     "duration": 5.494082,
     "end_time": "2022-09-01T03:20:35.249275",
     "exception": false,
     "start_time": "2022-09-01T03:20:29.755193",
     "status": "completed"
    },
    "tags": []
   },
   "outputs": [
    {
     "name": "stdout",
     "output_type": "stream",
     "text": [
      "Training until validation scores don't improve for 200 rounds\n",
      "Early stopping, best iteration is:\n",
      "[235]\tvalid_0's l1: 0.232802\n",
      "Training until validation scores don't improve for 200 rounds\n",
      "Did not meet early stopping. Best iteration is:\n",
      "[646]\tvalid_0's l1: 0.129044\n",
      "Training until validation scores don't improve for 200 rounds\n",
      "Early stopping, best iteration is:\n",
      "[209]\tvalid_0's l1: 0.146426\n",
      "Training until validation scores don't improve for 200 rounds\n",
      "Early stopping, best iteration is:\n",
      "[455]\tvalid_0's l1: 0.36972\n",
      "Training until validation scores don't improve for 200 rounds\n",
      "Did not meet early stopping. Best iteration is:\n",
      "[737]\tvalid_0's l1: 0.334994\n",
      "avg smape: 11.509241165126946\n",
      "CPU times: user 49.6 s, sys: 1.2 s, total: 50.8 s\n",
      "Wall time: 13.9 s\n"
     ]
    }
   ],
   "source": [
    "%%time \n",
    " # cross validation\n",
    "import warnings\n",
    "warnings.filterwarnings('ignore')\n",
    "params =  {'n_estimators': 740, 'learning_rate': 0.02655381461800373, 'num_leaves': 94, 'colsample_bytree': 0.6632670829555092, 'subsample': 0.5382093069333321, 'reg_alpha': 0.4633422115536414, 'reg_lambda': 0.48815978811966815,'objective':'regression','metric':'mae',\n",
    "          'random_state':42,'verbose':-1}\n",
    "split = TimeSeriesSplit(n_splits=5)\n",
    "avg_smape = 0\n",
    "for train_index, test_index in split.split(train_data):\n",
    "    train_data_split = train_data.iloc[train_index]\n",
    "    test_data_split = train_data.iloc[test_index]\n",
    "    y_train = train_data_split['num_sold']\n",
    "    X_train = train_data_split[features]\n",
    "    y_test = test_data_split['num_sold']\n",
    "    X_test = test_data_split[features]\n",
    "    train_dataset = lgb.Dataset(X_train, y_train, categorical_feature=['country','store','product'])\n",
    "    test_dataset = lgb.Dataset(X_test, y_test,categorical_feature=['country','store','product'])\n",
    "    model = LGBMRegressor(**params)\n",
    "    model.fit(X_train, y_train, eval_set=[(X_test, y_test)],callbacks=[lgb.early_stopping(200),lgb.log_evaluation(0)])\n",
    "    y_pred = model.predict(X_test)\n",
    "    y_pred = inv_boxcox(y_pred, lam)\n",
    "    avg_smape += smape(inv_boxcox(y_test, lam), y_pred)\n",
    "\n",
    "print('avg smape:', avg_smape / split.n_splits)"
   ]
  },
  {
   "cell_type": "code",
   "execution_count": 10,
   "id": "5f05e8d2",
   "metadata": {},
   "outputs": [],
   "source": [
    "# train in full data\n",
    "y_train = train_data['num_sold']\n",
    "X_train = train_data[features]\n",
    "model = LGBMRegressor(**params)\n",
    "model.fit(X_train, y_train)\n",
    "y_pred = model.predict(test_data[features])\n",
    "y_pred = inv_boxcox(y_pred, lam)\n",
    "# rounding\n",
    "y_pred = np.round(y_pred)\n"
   ]
  },
  {
   "cell_type": "code",
   "execution_count": 116,
   "id": "5ff31fc0",
   "metadata": {},
   "outputs": [
    {
     "name": "stderr",
     "output_type": "stream",
     "text": [
      "/tmp/ipykernel_11628/3676713081.py:5: SettingWithCopyWarning: \n",
      "A value is trying to be set on a copy of a slice from a DataFrame.\n",
      "Try using .loc[row_indexer,col_indexer] = value instead\n",
      "\n",
      "See the caveats in the documentation: https://pandas.pydata.org/pandas-docs/stable/user_guide/indexing.html#returning-a-view-versus-a-copy\n",
      "  df['day'] = df['date'].dt.dayofyear\n",
      "/tmp/ipykernel_11628/3676713081.py:7: SettingWithCopyWarning: \n",
      "A value is trying to be set on a copy of a slice from a DataFrame.\n",
      "Try using .loc[row_indexer,col_indexer] = value instead\n",
      "\n",
      "See the caveats in the documentation: https://pandas.pydata.org/pandas-docs/stable/user_guide/indexing.html#returning-a-view-versus-a-copy\n",
      "  df['month'] = df['date'].dt.month\n",
      "/tmp/ipykernel_11628/3676713081.py:8: SettingWithCopyWarning: \n",
      "A value is trying to be set on a copy of a slice from a DataFrame.\n",
      "Try using .loc[row_indexer,col_indexer] = value instead\n",
      "\n",
      "See the caveats in the documentation: https://pandas.pydata.org/pandas-docs/stable/user_guide/indexing.html#returning-a-view-versus-a-copy\n",
      "  df['year'] = df['date'].dt.year\n",
      "/tmp/ipykernel_11628/3676713081.py:12: SettingWithCopyWarning: \n",
      "A value is trying to be set on a copy of a slice from a DataFrame.\n",
      "Try using .loc[row_indexer,col_indexer] = value instead\n",
      "\n",
      "See the caveats in the documentation: https://pandas.pydata.org/pandas-docs/stable/user_guide/indexing.html#returning-a-view-versus-a-copy\n",
      "  df['weekend'] = df['date'].dt.weekday.isin([5,6])\n",
      "/tmp/ipykernel_11628/3676713081.py:17: SettingWithCopyWarning: \n",
      "A value is trying to be set on a copy of a slice from a DataFrame.\n",
      "Try using .loc[row_indexer,col_indexer] = value instead\n",
      "\n",
      "See the caveats in the documentation: https://pandas.pydata.org/pandas-docs/stable/user_guide/indexing.html#returning-a-view-versus-a-copy\n",
      "  df['easter'] = df.date.isin(easter_date)\n",
      "/tmp/ipykernel_11628/3676713081.py:19: SettingWithCopyWarning: \n",
      "A value is trying to be set on a copy of a slice from a DataFrame.\n",
      "Try using .loc[row_indexer,col_indexer] = value instead\n",
      "\n",
      "See the caveats in the documentation: https://pandas.pydata.org/pandas-docs/stable/user_guide/indexing.html#returning-a-view-versus-a-copy\n",
      "  df[col] = df[col].astype('category')\n",
      "/tmp/ipykernel_11628/3676713081.py:19: SettingWithCopyWarning: \n",
      "A value is trying to be set on a copy of a slice from a DataFrame.\n",
      "Try using .loc[row_indexer,col_indexer] = value instead\n",
      "\n",
      "See the caveats in the documentation: https://pandas.pydata.org/pandas-docs/stable/user_guide/indexing.html#returning-a-view-versus-a-copy\n",
      "  df[col] = df[col].astype('category')\n",
      "/tmp/ipykernel_11628/3676713081.py:19: SettingWithCopyWarning: \n",
      "A value is trying to be set on a copy of a slice from a DataFrame.\n",
      "Try using .loc[row_indexer,col_indexer] = value instead\n",
      "\n",
      "See the caveats in the documentation: https://pandas.pydata.org/pandas-docs/stable/user_guide/indexing.html#returning-a-view-versus-a-copy\n",
      "  df[col] = df[col].astype('category')\n"
     ]
    }
   ],
   "source": [
    "tmp = train.groupby(['country','store','product'])\n",
    "# get first group\n",
    "country, store, product = list(tmp.groups.keys())[0]\n",
    "tmp = tmp.get_group((country, store, product))\n",
    "tmp = feature_encode(tmp)\n",
    "pred = model.predict(tmp[features])\n",
    "pred = inv_boxcox(pred, lam)\n"
   ]
  },
  {
   "cell_type": "code",
   "execution_count": 117,
   "id": "38c1516f",
   "metadata": {},
   "outputs": [
    {
     "data": {
      "text/plain": [
       "(array([17167., 17348., 17532., 17713., 17897., 18078., 18262., 18444.,\n",
       "        18628.]),\n",
       " [Text(0, 0, ''),\n",
       "  Text(0, 0, ''),\n",
       "  Text(0, 0, ''),\n",
       "  Text(0, 0, ''),\n",
       "  Text(0, 0, ''),\n",
       "  Text(0, 0, ''),\n",
       "  Text(0, 0, ''),\n",
       "  Text(0, 0, ''),\n",
       "  Text(0, 0, '')])"
      ]
     },
     "execution_count": 117,
     "metadata": {},
     "output_type": "execute_result"
    },
    {
     "data": {
      "image/png": "[encoded data removed]",
      "text/plain": [
       "<Figure size 1200x500 with 1 Axes>"
      ]
     },
     "metadata": {},
     "output_type": "display_data"
    }
   ],
   "source": [
    "plt.figure(figsize=(12,5))\n",
    "plt.scatter(tmp['date'], tmp['num_sold'], label='actual', color='red')\n",
    "plt.plot(tmp['date'], pred, label='prediction', color='blue')\n",
    "plt.title('{} - {} - {}'.format(country, store, product), fontsize=9)\n",
    "plt.xticks(rotation=45)"
   ]
  },
  {
   "cell_type": "code",
   "execution_count": 111,
   "id": "2f543a70",
   "metadata": {},
   "outputs": [
    {
     "name": "stdout",
     "output_type": "stream",
     "text": [
      "avg smape: 12.529724759718295\n"
     ]
    }
   ],
   "source": [
    "# catboost\n",
    "params = {'n_estimators': 835, 'learning_rate': 0.08071991964057122, 'depth': 5, 'l2_leaf_reg': 4, 'subsample': 0.9955859992357842, 'random_state': 42}\n",
    "# time series split\n",
    "split = TimeSeriesSplit(n_splits=5)\n",
    "avg_smape = 0\n",
    "pred = np.zeros(test_data.shape[0])\n",
    "for train_index, test_index in split.split(train_data):\n",
    "    train_data_split = train_data.iloc[train_index]\n",
    "    test_data_split = train_data.iloc[test_index]\n",
    "    y_train = train_data_split['num_sold']\n",
    "    X_train = train_data_split[features]\n",
    "    y_test = test_data_split['num_sold']\n",
    "    X_test = test_data_split[features]\n",
    "    model = CatBoostRegressor(**params)\n",
    "    model.fit(X_train, y_train,cat_features=['country','store','product'],verbose=0)\n",
    "    y_pred = model.predict(X_test)\n",
    "    y_pred = inv_boxcox(y_pred, lam)\n",
    "    avg_smape += smape(inv_boxcox(y_test, lam), y_pred)\n",
    "    pred +model.predict(test_data[features])\n",
    "# rounding\n",
    "pred = np.round(pred)/split.n_splits\n",
    "print('avg smape:', avg_smape / split.n_splits)"
   ]
  },
  {
   "cell_type": "code",
   "execution_count": 70,
   "id": "2bac5318",
   "metadata": {},
   "outputs": [
    {
     "name": "stderr",
     "output_type": "stream",
     "text": [
      "/home/studio-lab-user/.conda/envs/stat/lib/python3.10/site-packages/tqdm/auto.py:22: TqdmWarning: IProgress not found. Please update jupyter and ipywidgets. See https://ipywidgets.readthedocs.io/en/stable/user_install.html\n",
      "  from .autonotebook import tqdm as notebook_tqdm\n"
     ]
    },
    {
     "name": "stdout",
     "output_type": "stream",
     "text": [
      "best params: {'n_estimators': 740, 'learning_rate': 0.02655381461800373, 'num_leaves': 94, 'colsample_bytree': 0.6632670829555092, 'subsample': 0.5382093069333321, 'reg_alpha': 0.4633422115536414, 'reg_lambda': 0.48815978811966815}\n"
     ]
    }
   ],
   "source": [
    "import optuna\n",
    "def objective(trial):\n",
    "    params = {\n",
    "        'n_estimators': trial.suggest_int('n_estimators', 100, 1000),\n",
    "        'learning_rate': trial.suggest_float('learning_rate', 0.01, 0.1),\n",
    "        'num_leaves': trial.suggest_int('num_leaves', 10, 100),\n",
    "        'colsample_bytree': trial.suggest_float('colsample_bytree', 0.01, 1.0),\n",
    "        'subsample': trial.suggest_float('subsample', 0.01, 1.0),\n",
    "        'reg_alpha': trial.suggest_float('reg_alpha', 0.0, 1.0),\n",
    "        'reg_lambda': trial.suggest_float('reg_lambda', 0.0, 1.0),\n",
    "        'objective': 'regression',\n",
    "        'metric': 'mae',\n",
    "        'random_state': 42\n",
    "    }\n",
    "    split = TimeSeriesSplit(n_splits=5)\n",
    "    avg_smape = 0\n",
    "    for train_index, test_index in split.split(train_data):\n",
    "        train_data_split = train_data.iloc[train_index]\n",
    "        test_data_split = train_data.iloc[test_index]\n",
    "        y_train = train_data_split['num_sold']\n",
    "        X_train = train_data_split[features]\n",
    "        y_test = test_data_split['num_sold']\n",
    "        X_test = test_data_split[features]\n",
    "        model = LGBMRegressor(**params)\n",
    "        model.fit(X_train, y_train)\n",
    "        y_pred = model.predict(X_test)\n",
    "        y_pred = inv_boxcox(y_pred, lam)\n",
    "        avg_smape += smape(inv_boxcox(y_test, lam), y_pred)\n",
    "    return avg_smape / split.n_splits\n",
    "optuna.logging.set_verbosity(optuna.logging.WARNING)\n",
    "study = optuna.create_study()\n",
    "study.optimize(objective, n_trials=50)\n",
    "# save to file log\n",
    "study.trials_dataframe().to_csv('log.csv')\n",
    "print('best params:', study.best_params)"
   ]
  },
  {
   "cell_type": "code",
   "execution_count": 19,
   "id": "651e6a80",
   "metadata": {},
   "outputs": [
    {
     "name": "stdout",
     "output_type": "stream",
     "text": [
      "trial: 0\n",
      "trial: 1\n",
      "trial: 2\n",
      "trial: 3\n",
      "trial: 4\n",
      "trial: 5\n",
      "trial: 6\n",
      "trial: 7\n",
      "trial: 8\n",
      "trial: 9\n",
      "trial: 10\n",
      "trial: 11\n",
      "trial: 12\n",
      "trial: 13\n",
      "trial: 14\n",
      "trial: 15\n",
      "trial: 16\n",
      "trial: 17\n",
      "trial: 18\n",
      "trial: 19\n",
      "trial: 20\n",
      "trial: 21\n",
      "trial: 22\n",
      "trial: 23\n",
      "trial: 24\n"
     ]
    }
   ],
   "source": [
    "def objective(trial):\n",
    "    print('trial:', trial.number)\n",
    "    params = {\n",
    "        'n_estimators': trial.suggest_int('n_estimators', 100, 1000),\n",
    "        'learning_rate': trial.suggest_float('learning_rate', 0.01, 0.1),\n",
    "        'depth': trial.suggest_int('depth', 3, 10),\n",
    "        'l2_leaf_reg': trial.suggest_int('l2_leaf_reg', 3, 10),\n",
    "        \n",
    "        'subsample': trial.suggest_float('subsample', 0.01, 1.0),\n",
    "        'random_state': 42\n",
    "    }\n",
    "    split = TimeSeriesSplit(n_splits=5)\n",
    "    avg_smape = 0\n",
    "    for train_index, test_index in split.split(train_data):\n",
    "        train_data_split = train_data.iloc[train_index]\n",
    "        test_data_split = train_data.iloc[test_index]\n",
    "        y_train = train_data_split['num_sold']\n",
    "        X_train = train_data_split[features]\n",
    "        y_test = test_data_split['num_sold']\n",
    "        X_test = test_data_split[features]\n",
    "        model = CatBoostRegressor(**params)\n",
    "        model.fit(X_train, y_train,cat_features=['country','store','product'],verbose=0)\n",
    "        y_pred = model.predict(X_test)\n",
    "        y_pred = inv_boxcox(y_pred, lam)\n",
    "        avg_smape += smape(inv_boxcox(y_test, lam), y_pred)\n",
    "    return avg_smape / split.n_splits\n",
    "optuna.logging.set_verbosity(optuna.logging.WARNING)\n",
    "study = optuna.create_study()\n",
    "study.optimize(objective, n_trials=25)\n"
   ]
  },
  {
   "cell_type": "code",
   "execution_count": 20,
   "id": "fbb7d874",
   "metadata": {},
   "outputs": [
    {
     "name": "stdout",
     "output_type": "stream",
     "text": [
      "best params: {'n_estimators': 835, 'learning_rate': 0.08071991964057122, 'depth': 5, 'l2_leaf_reg': 4, 'subsample': 0.9955859992357842}\n"
     ]
    }
   ],
   "source": [
    "print('best params:', study.best_params)"
   ]
  },
  {
   "cell_type": "code",
   "execution_count": 76,
   "id": "826c3868",
   "metadata": {
    "execution": {
     "iopub.execute_input": "2022-09-01T03:20:35.263967Z",
     "iopub.status.busy": "2022-09-01T03:20:35.263230Z",
     "iopub.status.idle": "2022-09-01T03:20:35.313584Z",
     "shell.execute_reply": "2022-09-01T03:20:35.312279Z"
    },
    "papermill": {
     "duration": 0.061223,
     "end_time": "2022-09-01T03:20:35.316599",
     "exception": false,
     "start_time": "2022-09-01T03:20:35.255376",
     "status": "completed"
    },
    "tags": []
   },
   "outputs": [],
   "source": [
    "submission = pd.DataFrame({'row_id':test_data['row_id'],'num_sold':y_pred})\n",
    "submission.to_csv('submission.csv', index=False)\n"
   ]
  },
  {
   "cell_type": "code",
   "execution_count": 77,
   "id": "ca0681bf",
   "metadata": {},
   "outputs": [
    {
     "name": "stdout",
     "output_type": "stream",
     "text": [
      "Warning: Your Kaggle API key is readable by other users on this system! To fix this, you can run 'chmod 600 /home/studio-lab-user/.kaggle/kaggle.json'\n"
     ]
    },
    {
     "name": "stderr",
     "output_type": "stream",
     "text": [
      "100%|███████████████████████████████████████| 202k/202k [00:00<00:00, 348kB/s]\n"
     ]
    },
    {
     "name": "stdout",
     "output_type": "stream",
     "text": [
      "Successfully submitted to Tabular Playground Series - Sep 2022"
     ]
    },
    {
     "data": {
      "text/plain": [
       "0"
      ]
     },
     "execution_count": 77,
     "metadata": {},
     "output_type": "execute_result"
    }
   ],
   "source": [
    "import os\n",
    "COMPETITION = 'tabular-playground-series-sep-2022'\n",
    "MESSAGE = 'LGBMRegressor'\n",
    "os.system('kaggle competitions submit -c {} -f submission.csv -m \"{}\"'.format(COMPETITION, MESSAGE))"
   ]
  },
  {
   "cell_type": "code",
   "execution_count": 78,
   "id": "3a54b9fe",
   "metadata": {},
   "outputs": [
    {
     "name": "stdout",
     "output_type": "stream",
     "text": [
      "Warning: Your Kaggle API key is readable by other users on this system! To fix this, you can run 'chmod 600 /home/studio-lab-user/.kaggle/kaggle.json'\n",
      "fileName        date                 description                    status    publicScore  privateScore  \n",
      "--------------  -------------------  -----------------------------  --------  -----------  ------------  \n",
      "submission.csv  2022-09-03 04:22:47  LGBMRegressor                  complete  6.81606                    \n",
      "lightgbm        2022-09-03 02:49:59  Notebook lightgbm | Version 3  complete  6.31193                    \n",
      "submission.csv  2022-09-03 02:44:50  LGBMRegressor                  complete  6.31193                    \n",
      "submission.csv  2022-09-03 02:19:03  LGBMRegressor                  complete  6.43603                    \n",
      "submission.csv  2022-09-02 02:36:43  LGBMRegressor                  complete  6.93222                    \n",
      "submission.csv  2022-09-02 02:35:59  LGBMRegressor                  complete  6.92618                    \n",
      "submission.csv  2022-09-02 02:07:30  LGBMRegressor                  complete  6.96087                    \n",
      "submission.csv  2022-09-02 02:01:01  LGBMRegressor                  complete  133.08716                  \n",
      "submission.csv  2022-09-02 01:56:22  LGBMRegressor                  complete  6.97749                    \n",
      "lightgbm        2022-09-01 03:21:08  Notebook lightgbm | Version 2  complete  6.76668                    \n",
      "lightgbm        2022-09-01 03:00:58  Notebook lightgbm | Version 1  complete  22.61325                   \n",
      "lightgbm        2022-09-01 03:00:06  Notebook lightgbm | Version 1  complete  22.61325                   \n",
      "submission.csv  2022-09-01 02:54:24  lightgbm baseline              complete  22.37010                   \n",
      "submission.csv  2022-09-01 02:45:19  lightgbm baseline              complete  23.91344                   \n"
     ]
    },
    {
     "data": {
      "text/plain": [
       "0"
      ]
     },
     "execution_count": 78,
     "metadata": {},
     "output_type": "execute_result"
    }
   ],
   "source": [
    "# check leaderboard\n",
    "os.system('kaggle competitions submissions -c {}'.format(COMPETITION))"
   ]
  },
  {
   "cell_type": "code",
   "execution_count": null,
   "id": "b3967083",
   "metadata": {},
   "outputs": [],
   "source": []
  }
 ],
 "metadata": {
  "kernelspec": {
   "display_name": "Python 3.10.5 ('stat': conda)",
   "language": "python",
   "name": "python3"
  },
  "language_info": {
   "codemirror_mode": {
    "name": "ipython",
    "version": 3
   },
   "file_extension": ".py",
   "mimetype": "text/x-python",
   "name": "python",
   "nbconvert_exporter": "python",
   "pygments_lexer": "ipython3",
   "version": "3.10.5"
  },
  "papermill": {
   "default_parameters": {},
   "duration": 19.754395,
   "end_time": "2022-09-01T03:20:36.144794",
   "environment_variables": {},
   "exception": null,
   "input_path": "__notebook__.ipynb",
   "output_path": "__notebook__.ipynb",
   "parameters": {},
   "start_time": "2022-09-01T03:20:16.390399",
   "version": "2.3.4"
  },
  "vscode": {
   "interpreter": {
    "hash": "5f9bd715b3ef0f405011d47e64ed91fdeadae1e6d28e05173e3827100370a66e"
   }
  }
 },
 "nbformat": 4,
 "nbformat_minor": 5
}
