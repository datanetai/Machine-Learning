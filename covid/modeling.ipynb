{
 "cells": [
  {
   "cell_type": "code",
   "execution_count": 1,
   "metadata": {},
   "outputs": [],
   "source": [
    "import pandas as pd\n",
    "import matplotlib.pyplot as plt\n",
    "import seaborn as sns\n",
    "import numpy as np\n",
    "from sklearn.metrics import mean_squared_error\n",
    "\n",
    "plt.style.use('ggplot')\n",
    "import warnings\n",
    "warnings.filterwarnings('ignore')"
   ]
  },
  {
   "cell_type": "code",
   "execution_count": 2,
   "metadata": {},
   "outputs": [
    {
     "data": {
      "text/html": [
       "<div>\n",
       "<style scoped>\n",
       "    .dataframe tbody tr th:only-of-type {\n",
       "        vertical-align: middle;\n",
       "    }\n",
       "\n",
       "    .dataframe tbody tr th {\n",
       "        vertical-align: top;\n",
       "    }\n",
       "\n",
       "    .dataframe thead th {\n",
       "        text-align: right;\n",
       "    }\n",
       "</style>\n",
       "<table border=\"1\" class=\"dataframe\">\n",
       "  <thead>\n",
       "    <tr style=\"text-align: right;\">\n",
       "      <th></th>\n",
       "      <th>new_cases</th>\n",
       "    </tr>\n",
       "    <tr>\n",
       "      <th>datetime</th>\n",
       "      <th></th>\n",
       "    </tr>\n",
       "  </thead>\n",
       "  <tbody>\n",
       "    <tr>\n",
       "      <th>2020-03-17</th>\n",
       "      <td>25</td>\n",
       "    </tr>\n",
       "    <tr>\n",
       "      <th>2020-02-26</th>\n",
       "      <td>1</td>\n",
       "    </tr>\n",
       "    <tr>\n",
       "      <th>2020-03-15</th>\n",
       "      <td>2</td>\n",
       "    </tr>\n",
       "    <tr>\n",
       "      <th>2020-03-18</th>\n",
       "      <td>9</td>\n",
       "    </tr>\n",
       "    <tr>\n",
       "      <th>2020-03-14</th>\n",
       "      <td>1</td>\n",
       "    </tr>\n",
       "    <tr>\n",
       "      <th>...</th>\n",
       "      <td>...</td>\n",
       "    </tr>\n",
       "    <tr>\n",
       "      <th>2022-08-21</th>\n",
       "      <td>808</td>\n",
       "    </tr>\n",
       "    <tr>\n",
       "      <th>2022-08-22</th>\n",
       "      <td>373</td>\n",
       "    </tr>\n",
       "    <tr>\n",
       "      <th>2022-08-23</th>\n",
       "      <td>177</td>\n",
       "    </tr>\n",
       "    <tr>\n",
       "      <th>2022-08-24</th>\n",
       "      <td>238</td>\n",
       "    </tr>\n",
       "    <tr>\n",
       "      <th>2022-08-25</th>\n",
       "      <td>278</td>\n",
       "    </tr>\n",
       "  </tbody>\n",
       "</table>\n",
       "<p>898 rows × 1 columns</p>\n",
       "</div>"
      ],
      "text/plain": [
       "            new_cases\n",
       "datetime             \n",
       "2020-03-17         25\n",
       "2020-02-26          1\n",
       "2020-03-15          2\n",
       "2020-03-18          9\n",
       "2020-03-14          1\n",
       "...               ...\n",
       "2022-08-21        808\n",
       "2022-08-22        373\n",
       "2022-08-23        177\n",
       "2022-08-24        238\n",
       "2022-08-25        278\n",
       "\n",
       "[898 rows x 1 columns]"
      ]
     },
     "execution_count": 2,
     "metadata": {},
     "output_type": "execute_result"
    }
   ],
   "source": [
    "df=pd.read_csv('data/dailyStats.csv',parse_dates=['datetime'],index_col='datetime')\n",
    "df.drop(['sr# '], axis=1, inplace=True)\n",
    "#remove column wih null values\n",
    "df = df[df.columns[~df.isnull().all()]]\n",
    "df"
   ]
  },
  {
   "cell_type": "code",
   "execution_count": 3,
   "metadata": {},
   "outputs": [
    {
     "name": "stdout",
     "output_type": "stream",
     "text": [
      "(755, 1) (143, 1)\n"
     ]
    }
   ],
   "source": [
    "train = df[df.index < '2022-03-01']\n",
    "test = df[df.index >= '2022-03-01']\n",
    "print(train.shape, test.shape)"
   ]
  },
  {
   "cell_type": "code",
   "execution_count": 7,
   "metadata": {},
   "outputs": [
    {
     "data": {
      "text/plain": [
       "Timestamp('2022-08-25 00:00:00')"
      ]
     },
     "execution_count": 7,
     "metadata": {},
     "output_type": "execute_result"
    }
   ],
   "source": [
    "test.index.max()"
   ]
  },
  {
   "cell_type": "code",
   "execution_count": 4,
   "metadata": {},
   "outputs": [
    {
     "name": "stderr",
     "output_type": "stream",
     "text": [
      "/home/vscode/miniconda3/envs/stat/lib/python3.7/site-packages/statsmodels/tsa/base/tsa_model.py:471: ValueWarning: A date index has been provided, but it has no associated frequency information and so will be ignored when e.g. forecasting.\n",
      "  self._init_dates(dates, freq)\n",
      "/home/vscode/miniconda3/envs/stat/lib/python3.7/site-packages/statsmodels/tsa/base/tsa_model.py:471: ValueWarning: A date index has been provided, but it is not monotonic and so will be ignored when e.g. forecasting.\n",
      "  self._init_dates(dates, freq)\n",
      "/home/vscode/miniconda3/envs/stat/lib/python3.7/site-packages/statsmodels/tsa/base/tsa_model.py:843: ValueWarning: No supported index is available. Prediction results will be given with an integer index beginning at `start`.\n",
      "  data=self.data,\n"
     ]
    },
    {
     "data": {
      "image/png": "[encoded data removed]",
      "text/plain": [
       "<Figure size 432x288 with 1 Axes>"
      ]
     },
     "metadata": {
      "needs_background": "light"
     },
     "output_type": "display_data"
    }
   ],
   "source": [
    "# exponential smoothing\n",
    "from statsmodels.tsa.holtwinters import ExponentialSmoothing\n",
    "et = ExponentialSmoothing(train['new_cases'], seasonal_periods=100,  seasonal='add',use_boxcox=True).fit()\n",
    "pred = et.predict(start=len(train), end=len(train)+len(test)-1)\n",
    "pred = pd.DataFrame(pred.values, index=test.index, columns=['new_cases'])\n",
    "plt.plot(test, label='actual', color='blue')\n",
    "plt.plot(pred, label='predicted', color='red')\n",
    "plt.legend()\n",
    "plt.show()"
   ]
  },
  {
   "cell_type": "code",
   "execution_count": 5,
   "metadata": {},
   "outputs": [
    {
     "name": "stdout",
     "output_type": "stream",
     "text": [
      "RMSE: 559.59\n"
     ]
    }
   ],
   "source": [
    "# rmse\n",
    "rmse = np.sqrt(mean_squared_error(test['new_cases'], pred['new_cases']))\n",
    "print(\"RMSE: %.2f\" % rmse)"
   ]
  },
  {
   "cell_type": "code",
   "execution_count": 6,
   "metadata": {},
   "outputs": [
    {
     "name": "stderr",
     "output_type": "stream",
     "text": [
      "/home/vscode/miniconda3/envs/stat/lib/python3.7/site-packages/statsmodels/tsa/base/tsa_model.py:471: ValueWarning: A date index has been provided, but it has no associated frequency information and so will be ignored when e.g. forecasting.\n",
      "  self._init_dates(dates, freq)\n",
      "/home/vscode/miniconda3/envs/stat/lib/python3.7/site-packages/statsmodels/tsa/base/tsa_model.py:471: ValueWarning: A date index has been provided, but it is not monotonic and so will be ignored when e.g. forecasting.\n",
      "  self._init_dates(dates, freq)\n",
      "/home/vscode/miniconda3/envs/stat/lib/python3.7/site-packages/statsmodels/tsa/base/tsa_model.py:471: ValueWarning: A date index has been provided, but it has no associated frequency information and so will be ignored when e.g. forecasting.\n",
      "  self._init_dates(dates, freq)\n",
      "/home/vscode/miniconda3/envs/stat/lib/python3.7/site-packages/statsmodels/tsa/base/tsa_model.py:471: ValueWarning: A date index has been provided, but it is not monotonic and so will be ignored when e.g. forecasting.\n",
      "  self._init_dates(dates, freq)\n",
      "/home/vscode/miniconda3/envs/stat/lib/python3.7/site-packages/statsmodels/tsa/base/tsa_model.py:471: ValueWarning: A date index has been provided, but it has no associated frequency information and so will be ignored when e.g. forecasting.\n",
      "  self._init_dates(dates, freq)\n",
      "/home/vscode/miniconda3/envs/stat/lib/python3.7/site-packages/statsmodels/tsa/base/tsa_model.py:471: ValueWarning: A date index has been provided, but it is not monotonic and so will be ignored when e.g. forecasting.\n",
      "  self._init_dates(dates, freq)\n",
      "/home/vscode/miniconda3/envs/stat/lib/python3.7/site-packages/statsmodels/tsa/base/tsa_model.py:843: ValueWarning: No supported index is available. Prediction results will be given with an integer index beginning at `start`.\n",
      "  data=self.data,\n"
     ]
    },
    {
     "data": {
      "text/plain": [
       "[<matplotlib.lines.Line2D at 0x7ff419f59c50>]"
      ]
     },
     "execution_count": 6,
     "metadata": {},
     "output_type": "execute_result"
    },
    {
     "data": {
      "image/png": "[encoded data removed]",
      "text/plain": [
       "<Figure size 432x288 with 1 Axes>"
      ]
     },
     "metadata": {
      "needs_background": "light"
     },
     "output_type": "display_data"
    }
   ],
   "source": [
    "# arima \n",
    "from statsmodels.tsa.arima.model import ARIMA\n",
    "arima = ARIMA(train['new_cases'], order=(0,1,1))\n",
    "arima_fit = arima.fit()\n",
    "pred = arima_fit.predict(start=len(train), end=len(train)+len(test)-1)\n",
    "pred = pd.DataFrame(pred.values, index=test.index, columns=['new_cases'])\n",
    "plt.plot(test, label='actual', color='blue')\n",
    "plt.plot(pred, label='predicted', color='red')"
   ]
  },
  {
   "cell_type": "code",
   "execution_count": 7,
   "metadata": {},
   "outputs": [
    {
     "data": {
      "text/html": [
       "<table class=\"simpletable\">\n",
       "<caption>SARIMAX Results</caption>\n",
       "<tr>\n",
       "  <th>Dep. Variable:</th>           <td>y</td>        <th>  No. Observations:  </th>    <td>755</td>   \n",
       "</tr>\n",
       "<tr>\n",
       "  <th>Model:</th>           <td>SARIMAX(0, 1, 1)</td> <th>  Log Likelihood     </th> <td>-6151.585</td>\n",
       "</tr>\n",
       "<tr>\n",
       "  <th>Date:</th>            <td>Sat, 27 Aug 2022</td> <th>  AIC                </th> <td>12307.169</td>\n",
       "</tr>\n",
       "<tr>\n",
       "  <th>Time:</th>                <td>08:03:59</td>     <th>  BIC                </th> <td>12316.420</td>\n",
       "</tr>\n",
       "<tr>\n",
       "  <th>Sample:</th>                  <td>0</td>        <th>  HQIC               </th> <td>12310.733</td>\n",
       "</tr>\n",
       "<tr>\n",
       "  <th></th>                      <td> - 755</td>      <th>                     </th>     <td> </td>    \n",
       "</tr>\n",
       "<tr>\n",
       "  <th>Covariance Type:</th>        <td>opg</td>       <th>                     </th>     <td> </td>    \n",
       "</tr>\n",
       "</table>\n",
       "<table class=\"simpletable\">\n",
       "<tr>\n",
       "     <td></td>       <th>coef</th>     <th>std err</th>      <th>z</th>      <th>P>|z|</th>  <th>[0.025</th>    <th>0.975]</th>  \n",
       "</tr>\n",
       "<tr>\n",
       "  <th>ma.L1</th>  <td>   -0.5686</td> <td>    0.017</td> <td>  -34.453</td> <td> 0.000</td> <td>   -0.601</td> <td>   -0.536</td>\n",
       "</tr>\n",
       "<tr>\n",
       "  <th>sigma2</th> <td> 7.235e+05</td> <td> 1.13e+04</td> <td>   64.200</td> <td> 0.000</td> <td> 7.01e+05</td> <td> 7.46e+05</td>\n",
       "</tr>\n",
       "</table>\n",
       "<table class=\"simpletable\">\n",
       "<tr>\n",
       "  <th>Ljung-Box (L1) (Q):</th>     <td>0.19</td> <th>  Jarque-Bera (JB):  </th> <td>15531.88</td>\n",
       "</tr>\n",
       "<tr>\n",
       "  <th>Prob(Q):</th>                <td>0.66</td> <th>  Prob(JB):          </th>   <td>0.00</td>  \n",
       "</tr>\n",
       "<tr>\n",
       "  <th>Heteroskedasticity (H):</th> <td>0.36</td> <th>  Skew:              </th>   <td>1.71</td>  \n",
       "</tr>\n",
       "<tr>\n",
       "  <th>Prob(H) (two-sided):</th>    <td>0.00</td> <th>  Kurtosis:          </th>   <td>24.97</td> \n",
       "</tr>\n",
       "</table><br/><br/>Warnings:<br/>[1] Covariance matrix calculated using the outer product of gradients (complex-step)."
      ],
      "text/plain": [
       "<class 'statsmodels.iolib.summary.Summary'>\n",
       "\"\"\"\n",
       "                               SARIMAX Results                                \n",
       "==============================================================================\n",
       "Dep. Variable:                      y   No. Observations:                  755\n",
       "Model:               SARIMAX(0, 1, 1)   Log Likelihood               -6151.585\n",
       "Date:                Sat, 27 Aug 2022   AIC                          12307.169\n",
       "Time:                        08:03:59   BIC                          12316.420\n",
       "Sample:                             0   HQIC                         12310.733\n",
       "                                - 755                                         \n",
       "Covariance Type:                  opg                                         \n",
       "==============================================================================\n",
       "                 coef    std err          z      P>|z|      [0.025      0.975]\n",
       "------------------------------------------------------------------------------\n",
       "ma.L1         -0.5686      0.017    -34.453      0.000      -0.601      -0.536\n",
       "sigma2      7.235e+05   1.13e+04     64.200      0.000    7.01e+05    7.46e+05\n",
       "===================================================================================\n",
       "Ljung-Box (L1) (Q):                   0.19   Jarque-Bera (JB):             15531.88\n",
       "Prob(Q):                              0.66   Prob(JB):                         0.00\n",
       "Heteroskedasticity (H):               0.36   Skew:                             1.71\n",
       "Prob(H) (two-sided):                  0.00   Kurtosis:                        24.97\n",
       "===================================================================================\n",
       "\n",
       "Warnings:\n",
       "[1] Covariance matrix calculated using the outer product of gradients (complex-step).\n",
       "\"\"\""
      ]
     },
     "execution_count": 7,
     "metadata": {},
     "output_type": "execute_result"
    }
   ],
   "source": [
    "# auto arima\n",
    "from pmdarima import auto_arima\n",
    "arima = auto_arima(train['new_cases'], start_p=1, start_q=1,max_p=5, max_q=5, trace=False, error_action='ignore', suppress_warnings=True)\n",
    "arima.summary()\n"
   ]
  },
  {
   "cell_type": "code",
   "execution_count": 8,
   "metadata": {},
   "outputs": [
    {
     "name": "stdout",
     "output_type": "stream",
     "text": [
      "RMSE: 627.78\n"
     ]
    }
   ],
   "source": [
    "rmse = np.sqrt(mean_squared_error(test['new_cases'], pred['new_cases']))\n",
    "print(\"RMSE: %.2f\" % rmse)"
   ]
  },
  {
   "cell_type": "markdown",
   "metadata": {},
   "source": [
    "fbprophet does not work"
   ]
  },
  {
   "cell_type": "code",
   "execution_count": 9,
   "metadata": {},
   "outputs": [],
   "source": [
    "def create_timeseries_dataset(X,y,timestep=1):\n",
    "    Xs,ys=list(),list()\n",
    "    for i in range(len(X)-timestep):\n",
    "        v=X[i:(i+timestep)]\n",
    "        Xs.append(v)\n",
    "        ys.append(y[i+timestep])\n",
    "    return np.array(Xs),np.array(ys)\n",
    "X,y = create_timeseries_dataset(df['new_cases'],df['new_cases'],timestep=10)\n",
    "X_train,y_train = X[:int(0.9*len(X))],y[:int(0.9*len(X))]\n",
    "X_test,y_test = X[int(0.9*len(X)):],y[int(0.9*len(X)):]\n",
    "\n"
   ]
  },
  {
   "cell_type": "code",
   "execution_count": 10,
   "metadata": {},
   "outputs": [
    {
     "name": "stderr",
     "output_type": "stream",
     "text": [
      "2022-08-27 08:04:21.076881: I tensorflow/core/platform/cpu_feature_guard.cc:193] This TensorFlow binary is optimized with oneAPI Deep Neural Network Library (oneDNN) to use the following CPU instructions in performance-critical operations:  SSE4.1 SSE4.2 AVX AVX2 AVX512F FMA\n",
      "To enable them in other operations, rebuild TensorFlow with the appropriate compiler flags.\n",
      "2022-08-27 08:04:21.077634: I tensorflow/core/common_runtime/process_util.cc:146] Creating new thread pool with default inter op setting: 2. Tune using inter_op_parallelism_threads for best performance.\n"
     ]
    }
   ],
   "source": [
    "# neural network\n",
    "import tensorflow as tf\n",
    "train_dataset = tf.data.Dataset.from_tensor_slices((X_train,y_train)).batch(1)\n",
    "test_dataset = tf.data.Dataset.from_tensor_slices((X_test,y_test)).batch(1)\n",
    "\n"
   ]
  },
  {
   "cell_type": "code",
   "execution_count": 11,
   "metadata": {},
   "outputs": [
    {
     "data": {
      "text/plain": [
       "<keras.callbacks.History at 0x7ff3f85f3f50>"
      ]
     },
     "execution_count": 11,
     "metadata": {},
     "output_type": "execute_result"
    }
   ],
   "source": [
    "class NeuralAutoRegressiveModel(tf.keras.Model):\n",
    "    # Neural AutoRegressive Model\n",
    "    def __init__(self, input_shape=(10,)):\n",
    "        \"\"\"\n",
    "        Initialize the model.\n",
    "        param input_shape: shape of the input data\n",
    "        \"\"\"\n",
    "        \n",
    "        super(NeuralAutoRegressiveModel, self).__init__(input_shape)\n",
    "      \n",
    "   \n",
    "        self.dense1 = tf.keras.layers.Dense(40, activation='swish')\n",
    "        self.dense2 = tf.keras.layers.Dense(40, activation='swish')\n",
    "        self.dense3 = tf.keras.layers.Dense(40, activation='swish')\n",
    "        self.dense = tf.keras.layers.Dense(units=1)\n",
    "    def call(self, inputs):\n",
    "        x = self.dense1(inputs)\n",
    "        x = self.dense2(x)\n",
    "        x = self.dense3(x)\n",
    "        x = self.dense(x)\n",
    "        return x\n",
    "model = NeuralAutoRegressiveModel()\n",
    "model.compile(optimizer='adam', loss='mse')\n",
    "model.fit(X_train, y_train, epochs=20, batch_size=2, verbose=0)\n"
   ]
  },
  {
   "cell_type": "code",
   "execution_count": 12,
   "metadata": {},
   "outputs": [
    {
     "name": "stdout",
     "output_type": "stream",
     "text": [
      "3/3 [==============================] - 0s 5ms/step\n",
      "RMSE: 254.64\n"
     ]
    }
   ],
   "source": [
    "rmse = np.sqrt(mean_squared_error(y_test, model.predict(X_test)))\n",
    "print(\"RMSE: %.2f\" % rmse)\n"
   ]
  },
  {
   "cell_type": "code",
   "execution_count": 13,
   "metadata": {},
   "outputs": [
    {
     "name": "stdout",
     "output_type": "stream",
     "text": [
      "(1, 10)\n"
     ]
    },
    {
     "data": {
      "text/plain": [
       "<AxesSubplot:>"
      ]
     },
     "execution_count": 13,
     "metadata": {},
     "output_type": "execute_result"
    },
    {
     "data": {
      "image/png": "[encoded data removed]",
      "text/plain": [
       "<Figure size 432x288 with 1 Axes>"
      ]
     },
     "metadata": {
      "needs_background": "light"
     },
     "output_type": "display_data"
    }
   ],
   "source": [
    "# future prediction\n",
    "def predict_future(model,X,start_date='2020-01-01',timestep=10,future_step=30,):\n",
    "    \"\"\"\n",
    "    Predict future values for X\n",
    "    params:\n",
    "        model: keras model\n",
    "        X: input data for last timestep\n",
    "        timestep: number of timesteps to predict\n",
    "    \"\"\"\n",
    "    prediction = np.zeros(future_step)\n",
    "    for i in range(future_step):\n",
    "        v = X[-timestep:]\n",
    "        prediction[i] = model.predict(v.reshape(1, -1),verbose=False)[0][0]\n",
    "        X = np.append(X,prediction[i])\n",
    "    prediction = pd.DataFrame(prediction, index=pd.date_range(start_date, periods=future_step, freq='D'), columns=['new_cases'])\n",
    "    return prediction\n",
    "\n",
    "\n",
    "last_ten = X_test[-1:]\n",
    "print(last_ten.shape)\n",
    "pred = predict_future(model,last_ten,start_date=df.index[-1],timestep=10,future_step=15)\n",
    "\n",
    "pred.plot()\n",
    "    "
   ]
  }
 ],
 "metadata": {
  "kernelspec": {
   "display_name": "Python 3.9.12 ('stat')",
   "language": "python",
   "name": "python3"
  },
  "language_info": {
   "codemirror_mode": {
    "name": "ipython",
    "version": 3
   },
   "file_extension": ".py",
   "mimetype": "text/x-python",
   "name": "python",
   "nbconvert_exporter": "python",
   "pygments_lexer": "ipython3",
   "version": "3.7.13"
  },
  "orig_nbformat": 4,
  "vscode": {
   "interpreter": {
    "hash": "153400cfb79e6435c1b729fad1d122747b6c386da6265ba20ecaebe0030c58cb"
   }
  }
 },
 "nbformat": 4,
 "nbformat_minor": 2
}
